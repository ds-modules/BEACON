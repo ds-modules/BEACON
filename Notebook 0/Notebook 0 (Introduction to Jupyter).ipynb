{
 "cells": [
  {
   "cell_type": "code",
   "execution_count": 26,
   "id": "b9fe803a",
   "metadata": {},
   "outputs": [],
   "source": [
    "from datascience import * "
   ]
  },
  {
   "cell_type": "markdown",
   "id": "fc20b758",
   "metadata": {},
   "source": [
    "# Introduction to Jupyter \n",
    "\n",
    "<u>Jupyter Notebooks allow you to integrate your code and its output into a **single document** where you can run code, display the output, add explanations, fomulas, charts all in one place.Most importantly, this helps makes your work repeatable, shareable, and understandable. "
   ]
  },
  {
   "cell_type": "markdown",
   "id": "e7bee7d5",
   "metadata": {},
   "source": [
    "Once you open, your Jupyter Notebook, there are two prominent features that may be new to you: \n",
    "1. The **kernel** is a computational engine that executes the code contained in your notebook.\n",
    "\n",
    "<div class=\" alert alert-info\">\n",
    "In the top right of your window, you can see a circle that indicates the status of your kernel. If the circle is empty (⚪), the kernel is idle and ready to execute code. If the circle is filled in (⚫), the kernel is busy running some code. \n",
    "</ div >\n"
   ]
  },
  {
   "cell_type": "markdown",
   "id": "3a14df0c",
   "metadata": {},
   "source": [
    "2. A **cell** contains code you can execute *using* the kernel, and/or any text that you may want to display. Cells form the body of a notebook. \n"
   ]
  },
  {
   "cell_type": "markdown",
   "id": "b9250169",
   "metadata": {},
   "source": [
    "### Cells \n",
    "\n",
    "Cells form the body of your notebook, and there are many things you can do with them,  include moving cells within the body of the noteboo, adding/deleting cells, etc. \n",
    "\n",
    "Take some time to play around with some of these features in the toolbar at the top of this page, and if you're not sure about what a specific feature does, just hover your mouse over it for a description of what it does ! \n",
    "\n",
    "#### Running Cells \n",
    "\n",
    "\"Running a cell\" is equivalent to pressing \"Enter\" on a calculator once you've typed in the expression you want to evaluate: it produces an output. \n",
    "\n",
    "1. When you run a **text cell**, it outputs clean, organized writing. \n",
    "2. When you run a **code cell**, it computes **all** of the expressions you want to evaluate, and can output the result of the computation."
   ]
  },
  {
   "cell_type": "markdown",
   "id": "68a9a3ba",
   "metadata": {},
   "source": [
    "**Exercise 1 :** This paragraph is in its own text cell.  Try editing it so that this sentence is the last sentence in the paragraph, and then click the \"run cell\" ▶ button or hold down `shift` + `return`.  This sentence, for example, should be deleted.  So should this one."
   ]
  },
  {
   "cell_type": "markdown",
   "id": "64ef1193",
   "metadata": {},
   "source": [
    "Try running the cell below. "
   ]
  },
  {
   "cell_type": "code",
   "execution_count": 1,
   "id": "1f45736b",
   "metadata": {},
   "outputs": [
    {
     "name": "stdout",
     "output_type": "stream",
     "text": [
      "Hello World!\n"
     ]
    }
   ],
   "source": [
    "print(\"Hello World!\") # this is a code cell !"
   ]
  },
  {
   "cell_type": "markdown",
   "id": "2350bbc4",
   "metadata": {},
   "source": [
    "## Errors\n",
    "Python is a language, and like natural human languages, it has rules.  It differs from natural language in two important ways:\n",
    "1. The rules are *simple*.  You can learn most of them in a few weeks and gain reasonable proficiency with the language in a semester.\n",
    "2. The rules are *rigid*.  If you're proficient in a natural language, you can understand a non-proficient speaker, glossing over small mistakes.  A computer running Python code is not smart enough to do that.\n",
    "\n",
    "Whenever you write code, you'll make mistakes.  When you run a code cell that has errors, Python will sometimes produce error messages to tell you what you did wrong.\n",
    "\n",
    "Errors are okay; even experienced programmers make many errors.  When you make an error, you just have to find the source of the problem, fix it, and move on.\n",
    "\n",
    "We have made an error in the next cell.  Run it and see what happens."
   ]
  },
  {
   "cell_type": "code",
   "execution_count": 2,
   "id": "340d6297",
   "metadata": {},
   "outputs": [
    {
     "ename": "SyntaxError",
     "evalue": "unexpected EOF while parsing (1867411798.py, line 1)",
     "output_type": "error",
     "traceback": [
      "\u001b[0;36m  Cell \u001b[0;32mIn[2], line 1\u001b[0;36m\u001b[0m\n\u001b[0;31m    print(\"This line is missing something.\"\u001b[0m\n\u001b[0m                                           ^\u001b[0m\n\u001b[0;31mSyntaxError\u001b[0m\u001b[0;31m:\u001b[0m unexpected EOF while parsing\n"
     ]
    }
   ],
   "source": [
    "print(\"This line is missing something.\""
   ]
  },
  {
   "cell_type": "markdown",
   "id": "7bc7f80b",
   "metadata": {},
   "source": [
    "The last line of the error output attempts to tell you what went wrong.  The *syntax* of a language is its structure, and this `SyntaxError` tells you that you have created an illegal structure.  \"`EOF`\" means \"end of file,\" so the message is saying Python expected you to write something more (in this case, a right parenthesis) before finishing the cell.\n",
    "\n",
    "There's a lot of terminology in programming languages, but you don't need to know it all in order to program effectively. If you see a cryptic message like this, you can often get by without deciphering it.  \n",
    "\n",
    "In the example above, we see that one source of a `SyntaxError` has to do with parentheses. \n",
    "\n",
    "\n",
    "**Exercise 2 :** Try to fix the code above so that you can run the cell and see the intended message instead of an error."
   ]
  },
  {
   "cell_type": "code",
   "execution_count": 3,
   "id": "6489c9eb",
   "metadata": {},
   "outputs": [],
   "source": [
    "#Your code here"
   ]
  },
  {
   "cell_type": "markdown",
   "id": "4c9ee0ca",
   "metadata": {},
   "source": [
    "# Introduction to Python "
   ]
  },
  {
   "cell_type": "markdown",
   "id": "89ce3111",
   "metadata": {},
   "source": [
    "#### In this section, we will explore some of the key operators in Python, and learn to aggregate multiple mathematical expressions into your own functions! "
   ]
  },
  {
   "cell_type": "markdown",
   "id": "428a4556",
   "metadata": {},
   "source": [
    "In a way, you can think of Python as a really fast calulcator that can perform complex arithmetic in a matter of seconds. So the same rules of PEMDAS and arithmetic that you may be already aware of still apply!\n",
    "\n",
    "For each of the cells below, predict what each cell will output, and then run it too see if you were correct! "
   ]
  },
  {
   "cell_type": "markdown",
   "id": "c62ff509",
   "metadata": {},
   "source": [
    "## Operators "
   ]
  },
  {
   "cell_type": "code",
   "execution_count": 4,
   "id": "ad8f693f",
   "metadata": {},
   "outputs": [
    {
     "data": {
      "text/plain": [
       "5"
      ]
     },
     "execution_count": 4,
     "metadata": {},
     "output_type": "execute_result"
    }
   ],
   "source": [
    "3 + 2"
   ]
  },
  {
   "cell_type": "code",
   "execution_count": 5,
   "id": "d843dcbb",
   "metadata": {},
   "outputs": [
    {
     "data": {
      "text/plain": [
       "7"
      ]
     },
     "execution_count": 5,
     "metadata": {},
     "output_type": "execute_result"
    }
   ],
   "source": [
    "8 - 1"
   ]
  },
  {
   "cell_type": "code",
   "execution_count": 6,
   "id": "0ae8d386",
   "metadata": {},
   "outputs": [
    {
     "data": {
      "text/plain": [
       "2.5"
      ]
     },
     "execution_count": 6,
     "metadata": {},
     "output_type": "execute_result"
    }
   ],
   "source": [
    "5 / 2"
   ]
  },
  {
   "cell_type": "code",
   "execution_count": 7,
   "id": "d8ddb0fc",
   "metadata": {},
   "outputs": [
    {
     "data": {
      "text/plain": [
       "17"
      ]
     },
     "execution_count": 7,
     "metadata": {},
     "output_type": "execute_result"
    }
   ],
   "source": [
    "7 * 2 + 3 "
   ]
  },
  {
   "cell_type": "code",
   "execution_count": 8,
   "id": "394e5b4c",
   "metadata": {},
   "outputs": [
    {
     "data": {
      "text/plain": [
       "3.0"
      ]
     },
     "execution_count": 8,
     "metadata": {},
     "output_type": "execute_result"
    }
   ],
   "source": [
    "6 / 3 + 1"
   ]
  },
  {
   "cell_type": "code",
   "execution_count": 9,
   "id": "fb31bd54",
   "metadata": {
    "scrolled": true
   },
   "outputs": [
    {
     "data": {
      "text/plain": [
       "10"
      ]
     },
     "execution_count": 9,
     "metadata": {},
     "output_type": "execute_result"
    }
   ],
   "source": [
    "5 * 2"
   ]
  },
  {
   "cell_type": "code",
   "execution_count": 10,
   "id": "5d0fbde4",
   "metadata": {},
   "outputs": [
    {
     "data": {
      "text/plain": [
       "4"
      ]
     },
     "execution_count": 10,
     "metadata": {},
     "output_type": "execute_result"
    }
   ],
   "source": [
    "2 ** 2 # this operator may be new to you ! what do you think it does ? "
   ]
  },
  {
   "cell_type": "markdown",
   "id": "df1fc29c",
   "metadata": {},
   "source": [
    "<div class=\" alert alert-info\">\n",
    "\n",
    "As you may have already figured out, here are some of the key arithmetic operators in Python : \n",
    "\n",
    "- \"+\" --> addition (3 + 2) \n",
    "- \"-\" --> subtraction (\n",
    "- \"*\" --> multiplication ( 3 * 2 = 6 ) \n",
    "- \"**\" --> power ( 2 ** 2  = 4, 3 ** 1 = 3, 3 ** 3 = 27 ) \n",
    "- \"/\"\n",
    "Try running the cells below. You should run into an error. \n",
    "</ div >"
   ]
  },
  {
   "cell_type": "code",
   "execution_count": 11,
   "id": "9d0230a7",
   "metadata": {},
   "outputs": [
    {
     "name": "stderr",
     "output_type": "stream",
     "text": [
      "<>:1: SyntaxWarning: 'int' object is not callable; perhaps you missed a comma?\n",
      "<>:1: SyntaxWarning: 'int' object is not callable; perhaps you missed a comma?\n",
      "/tmp/ipykernel_139/4282509325.py:1: SyntaxWarning: 'int' object is not callable; perhaps you missed a comma?\n",
      "  9(2) + 1# we will learn more about why this errors when we learn about functions !\n",
      "/tmp/ipykernel_139/4282509325.py:1: SyntaxWarning: 'int' object is not callable; perhaps you missed a comma?\n",
      "  9(2) + 1# we will learn more about why this errors when we learn about functions !\n",
      "/tmp/ipykernel_139/4282509325.py:1: SyntaxWarning: 'int' object is not callable; perhaps you missed a comma?\n",
      "  9(2) + 1# we will learn more about why this errors when we learn about functions !\n"
     ]
    },
    {
     "ename": "TypeError",
     "evalue": "'int' object is not callable",
     "output_type": "error",
     "traceback": [
      "\u001b[0;31m---------------------------------------------------------------------------\u001b[0m",
      "\u001b[0;31mTypeError\u001b[0m                                 Traceback (most recent call last)",
      "Cell \u001b[0;32mIn[11], line 1\u001b[0m\n\u001b[0;32m----> 1\u001b[0m \u001b[38;5;241;43m9\u001b[39;49m\u001b[43m(\u001b[49m\u001b[38;5;241;43m2\u001b[39;49m\u001b[43m)\u001b[49m \u001b[38;5;241m+\u001b[39m \u001b[38;5;241m1\u001b[39m\u001b[38;5;66;03m# we will learn more about why this errors when we learn about functions ! \u001b[39;00m\n",
      "\u001b[0;31mTypeError\u001b[0m: 'int' object is not callable"
     ]
    }
   ],
   "source": [
    "9(2) + 1# we will learn more about why this errors when we learn about functions ! "
   ]
  },
  {
   "cell_type": "markdown",
   "id": "436e07e9",
   "metadata": {},
   "source": [
    "<div class= \"alert alert-info\">\n",
    "    \n",
    "Notice that the () and x operators do not work as we would expect them to on a normal calculator. \n",
    "Instead, it results in a `TypeError`. \n",
    "    <br>\n",
    "So, when we are multiplying two numbers a and b, you must always use the *  operator.\n"
   ]
  },
  {
   "cell_type": "markdown",
   "id": "5dbc760b",
   "metadata": {},
   "source": [
    "The next, and final operator may be new to you : *%*.\n"
   ]
  },
  {
   "cell_type": "markdown",
   "id": "0dc78865",
   "metadata": {},
   "source": [
    "<div class= \"alert alert-info\">\n",
    "\n",
    "The expression a % b is read as : \" a mod b \" and upon evaluation, \n",
    "    returns the **remainder after dividing the left operand (a) by the right operand (b).** \n"
   ]
  },
  {
   "cell_type": "markdown",
   "id": "ea46c159",
   "metadata": {},
   "source": [
    "Try running the cells below : "
   ]
  },
  {
   "cell_type": "code",
   "execution_count": 12,
   "id": "5b7e8635",
   "metadata": {},
   "outputs": [
    {
     "data": {
      "text/plain": [
       "1"
      ]
     },
     "execution_count": 12,
     "metadata": {},
     "output_type": "execute_result"
    }
   ],
   "source": [
    "5 % 2 # 5 mod 2 will return the remainder after dividing 5 by 2 "
   ]
  },
  {
   "cell_type": "code",
   "execution_count": 13,
   "id": "23981c11",
   "metadata": {},
   "outputs": [
    {
     "data": {
      "text/plain": [
       "0"
      ]
     },
     "execution_count": 13,
     "metadata": {},
     "output_type": "execute_result"
    }
   ],
   "source": [
    "9 % 3 # 9 is divisible by 3, so we will have a remainder of 0 !"
   ]
  },
  {
   "cell_type": "code",
   "execution_count": 14,
   "id": "ecdb8ab7",
   "metadata": {},
   "outputs": [
    {
     "data": {
      "text/plain": [
       "3"
      ]
     },
     "execution_count": 14,
     "metadata": {},
     "output_type": "execute_result"
    }
   ],
   "source": [
    "18 % 5"
   ]
  },
  {
   "cell_type": "markdown",
   "id": "061d9229",
   "metadata": {},
   "source": [
    "## Datatypes "
   ]
  },
  {
   "cell_type": "markdown",
   "id": "47e041b6",
   "metadata": {},
   "source": [
    "As we have seen from above, Python has two real number types \n",
    "- **int:**\tan integer of any size\n",
    "- **float:**\ta number with an optional fractional part\n",
    "\n",
    "**An int never has a decimal point; a float always does**\n",
    "\n",
    "Three limitations of float values:\n",
    "1. They have limited size (but the limit is huge)\n",
    "2. They have limited precision of 15-16 decimal places\n",
    "3. After arithmetic, the final few decimal places can be wrong\n"
   ]
  },
  {
   "cell_type": "markdown",
   "id": "9bd5a542",
   "metadata": {},
   "source": [
    "\n",
    "Another important datatype in Python is **Strings**.  \n",
    "A string value is a snippet of text of any length. They are represnted using either '' or \"\". Run the cells below "
   ]
  },
  {
   "cell_type": "code",
   "execution_count": 15,
   "id": "3cdd9f78",
   "metadata": {},
   "outputs": [
    {
     "data": {
      "text/plain": [
       "'a'"
      ]
     },
     "execution_count": 15,
     "metadata": {},
     "output_type": "execute_result"
    }
   ],
   "source": [
    "'a'"
   ]
  },
  {
   "cell_type": "code",
   "execution_count": 16,
   "id": "b712768d",
   "metadata": {},
   "outputs": [
    {
     "data": {
      "text/plain": [
       "'word'"
      ]
     },
     "execution_count": 16,
     "metadata": {},
     "output_type": "execute_result"
    }
   ],
   "source": [
    "'word'"
   ]
  },
  {
   "cell_type": "code",
   "execution_count": 17,
   "id": "d87fceee",
   "metadata": {},
   "outputs": [
    {
     "data": {
      "text/plain": [
       "\"there can be 2 sentences. Here's the second!\""
      ]
     },
     "execution_count": 17,
     "metadata": {},
     "output_type": "execute_result"
    }
   ],
   "source": [
    "\"there can be 2 sentences. Here's the second!\""
   ]
  },
  {
   "cell_type": "code",
   "execution_count": 18,
   "id": "ed974d5b",
   "metadata": {},
   "outputs": [
    {
     "data": {
      "text/plain": [
       "12"
      ]
     },
     "execution_count": 18,
     "metadata": {},
     "output_type": "execute_result"
    }
   ],
   "source": [
    "int('12') # Strings consisting of numbers can be converted to numbers"
   ]
  },
  {
   "cell_type": "code",
   "execution_count": 19,
   "id": "800004ed",
   "metadata": {},
   "outputs": [
    {
     "data": {
      "text/plain": [
       "1.2"
      ]
     },
     "execution_count": 19,
     "metadata": {},
     "output_type": "execute_result"
    }
   ],
   "source": [
    "float('1.2') # Here's another example ! "
   ]
  },
  {
   "cell_type": "code",
   "execution_count": 20,
   "id": "fc4f59d6",
   "metadata": {},
   "outputs": [
    {
     "data": {
      "text/plain": [
       "'5'"
      ]
     },
     "execution_count": 20,
     "metadata": {},
     "output_type": "execute_result"
    }
   ],
   "source": [
    "str(5) # Any value can be converted to a string"
   ]
  },
  {
   "cell_type": "markdown",
   "id": "fb7cfe3b",
   "metadata": {},
   "source": [
    "A common thing to do with Strings is **string concatenation**. String concatenation is the operation of joining character strings end-to-end. For example, the concatenation of \"snow\" and \"ball\" is \"snowball\"."
   ]
  },
  {
   "cell_type": "code",
   "execution_count": 21,
   "id": "2a56cf41",
   "metadata": {},
   "outputs": [
    {
     "data": {
      "text/plain": [
       "'snowball'"
      ]
     },
     "execution_count": 21,
     "metadata": {},
     "output_type": "execute_result"
    }
   ],
   "source": [
    "'snow' + 'ball'"
   ]
  },
  {
   "cell_type": "markdown",
   "id": "3a9f2135",
   "metadata": {},
   "source": [
    "You can also generate the same word multiple times, like pizza a 100 times (only if this were possible in real life!)"
   ]
  },
  {
   "cell_type": "code",
   "execution_count": 22,
   "id": "752bc080",
   "metadata": {},
   "outputs": [
    {
     "data": {
      "text/plain": [
       "'PizzaPizzaPizzaPizzaPizzaPizzaPizzaPizzaPizzaPizzaPizzaPizzaPizzaPizzaPizzaPizzaPizzaPizzaPizzaPizzaPizzaPizzaPizzaPizzaPizzaPizzaPizzaPizzaPizzaPizzaPizzaPizzaPizzaPizzaPizzaPizzaPizzaPizzaPizzaPizzaPizzaPizzaPizzaPizzaPizzaPizzaPizzaPizzaPizzaPizzaPizzaPizzaPizzaPizzaPizzaPizzaPizzaPizzaPizzaPizzaPizzaPizzaPizzaPizzaPizzaPizzaPizzaPizzaPizzaPizzaPizzaPizzaPizzaPizzaPizzaPizzaPizzaPizzaPizzaPizzaPizzaPizzaPizzaPizzaPizzaPizzaPizzaPizzaPizzaPizzaPizzaPizzaPizzaPizzaPizzaPizzaPizzaPizzaPizzaPizza'"
      ]
     },
     "execution_count": 22,
     "metadata": {},
     "output_type": "execute_result"
    }
   ],
   "source": [
    "'Pizza'*100"
   ]
  },
  {
   "cell_type": "code",
   "execution_count": 23,
   "id": "c7f03b42",
   "metadata": {},
   "outputs": [
    {
     "ename": "SyntaxError",
     "evalue": "invalid syntax (1456974431.py, line 1)",
     "output_type": "error",
     "traceback": [
      "\u001b[0;36m  Cell \u001b[0;32mIn[23], line 1\u001b[0;36m\u001b[0m\n\u001b[0;31m    Try running the cell below. You should run into an error.\u001b[0m\n\u001b[0m        ^\u001b[0m\n\u001b[0;31mSyntaxError\u001b[0m\u001b[0;31m:\u001b[0m invalid syntax\n"
     ]
    }
   ],
   "source": [
    "Try running the cell below. You should run into an error. "
   ]
  },
  {
   "cell_type": "code",
   "execution_count": 24,
   "id": "e4611b69",
   "metadata": {},
   "outputs": [
    {
     "ename": "TypeError",
     "evalue": "can only concatenate str (not \"int\") to str",
     "output_type": "error",
     "traceback": [
      "\u001b[0;31m---------------------------------------------------------------------------\u001b[0m",
      "\u001b[0;31mTypeError\u001b[0m                                 Traceback (most recent call last)",
      "Cell \u001b[0;32mIn[24], line 1\u001b[0m\n\u001b[0;32m----> 1\u001b[0m \u001b[38;5;124;43m'\u001b[39;49m\u001b[38;5;124;43mHello \u001b[39;49m\u001b[38;5;124;43m'\u001b[39;49m\u001b[43m \u001b[49m\u001b[38;5;241;43m+\u001b[39;49m\u001b[43m \u001b[49m\u001b[38;5;241;43m2\u001b[39;49m\n",
      "\u001b[0;31mTypeError\u001b[0m: can only concatenate str (not \"int\") to str"
     ]
    }
   ],
   "source": [
    "'Hello ' + 2"
   ]
  },
  {
   "cell_type": "markdown",
   "id": "6ff72d5d",
   "metadata": {},
   "source": [
    "As stated in the `TypeError`, you cannot concatenate a non-String type to a String. \n",
    "In other words, you can only concatenate a String to another String. In this case, you need to cast the integer value to a String using str(): "
   ]
  },
  {
   "cell_type": "code",
   "execution_count": 25,
   "id": "65927833",
   "metadata": {},
   "outputs": [
    {
     "data": {
      "text/plain": [
       "'Hello 2'"
      ]
     },
     "execution_count": 25,
     "metadata": {},
     "output_type": "execute_result"
    }
   ],
   "source": [
    "'Hello ' + str(2)"
   ]
  },
  {
   "cell_type": "markdown",
   "id": "0fe7cbec",
   "metadata": {},
   "source": [
    "If you ever want ot verify the type of a datatype, the **type** function can tell you the type of a value"
   ]
  },
  {
   "cell_type": "code",
   "execution_count": 26,
   "id": "e42d464c",
   "metadata": {},
   "outputs": [
    {
     "data": {
      "text/plain": [
       "int"
      ]
     },
     "execution_count": 26,
     "metadata": {},
     "output_type": "execute_result"
    }
   ],
   "source": [
    "type(2)"
   ]
  },
  {
   "cell_type": "code",
   "execution_count": 27,
   "id": "2d02756b",
   "metadata": {},
   "outputs": [
    {
     "data": {
      "text/plain": [
       "int"
      ]
     },
     "execution_count": 27,
     "metadata": {},
     "output_type": "execute_result"
    }
   ],
   "source": [
    "type(2 + 2)"
   ]
  },
  {
   "cell_type": "markdown",
   "id": "5db9ba45",
   "metadata": {},
   "source": [
    "## Variables and Assignment Statements "
   ]
  },
  {
   "cell_type": "markdown",
   "id": "bb636134",
   "metadata": {},
   "source": [
    "In natural language, we have terminology that lets us quickly reference very complicated concepts.  We don't say, \"That's a large mammal with brown fur and sharp teeth!\"  Instead, we just say, \"Bear!\"\n",
    "\n",
    "In Python, we do this with *assignment statements*. An assignment statement has a name on the left side of an `=` sign and an expression to be evaluated on the right."
   ]
  },
  {
   "cell_type": "code",
   "execution_count": 28,
   "id": "8f7b2802",
   "metadata": {},
   "outputs": [],
   "source": [
    "ten = (3 + 2) * 2 + 1"
   ]
  },
  {
   "cell_type": "markdown",
   "id": "3f8bbc56",
   "metadata": {},
   "source": [
    "If we now type the variable ten in a separate code cell, it should return the variable's value, after evaluating the expression we passed in. "
   ]
  },
  {
   "cell_type": "code",
   "execution_count": 29,
   "id": "d81a252a",
   "metadata": {},
   "outputs": [
    {
     "data": {
      "text/plain": [
       "11"
      ]
     },
     "execution_count": 29,
     "metadata": {},
     "output_type": "execute_result"
    }
   ],
   "source": [
    "ten"
   ]
  },
  {
   "cell_type": "markdown",
   "id": "210d6ea2",
   "metadata": {},
   "source": [
    "<div class=\"alert alert-info\">\n",
    "There are a few limitations to how we can name our variables : \n",
    "    <br>\n",
    "    - A variable name must start with a letter or an underscore character (_)\n",
    "    <br>\n",
    "    - A variable name cannot start with a digit.\n",
    "    <br>\n",
    "    - A variable name can only contain alpha-numeric characters and underscores ( a-z, A-Z , 0-9 , and _ )\n",
    "</ div >\n"
   ]
  },
  {
   "cell_type": "markdown",
   "id": "4ae888f5",
   "metadata": {},
   "source": [
    "If we decide we want to reassign the variable ten to a different value, we can do that:"
   ]
  },
  {
   "cell_type": "code",
   "execution_count": 30,
   "id": "b12ee9a5",
   "metadata": {},
   "outputs": [],
   "source": [
    "ten = 8 # this reassigns ten's value from 11 to 8 "
   ]
  },
  {
   "cell_type": "code",
   "execution_count": 31,
   "id": "4c875d31",
   "metadata": {},
   "outputs": [
    {
     "data": {
      "text/plain": [
       "8"
      ]
     },
     "execution_count": 31,
     "metadata": {},
     "output_type": "execute_result"
    }
   ],
   "source": [
    "ten "
   ]
  },
  {
   "cell_type": "code",
   "execution_count": 32,
   "id": "1eae561a",
   "metadata": {},
   "outputs": [],
   "source": [
    "var_1, var_2 = 5, 7 # we can also assign variables in one line !"
   ]
  },
  {
   "cell_type": "code",
   "execution_count": 33,
   "id": "b9cd5e52",
   "metadata": {},
   "outputs": [
    {
     "data": {
      "text/plain": [
       "5"
      ]
     },
     "execution_count": 33,
     "metadata": {},
     "output_type": "execute_result"
    }
   ],
   "source": [
    "var_1"
   ]
  },
  {
   "cell_type": "code",
   "execution_count": 34,
   "id": "f5e19988",
   "metadata": {},
   "outputs": [
    {
     "data": {
      "text/plain": [
       "7"
      ]
     },
     "execution_count": 34,
     "metadata": {},
     "output_type": "execute_result"
    }
   ],
   "source": [
    "var_2"
   ]
  },
  {
   "cell_type": "markdown",
   "id": "f8778352",
   "metadata": {},
   "source": [
    "What if we try to type a random word in a code cell without putting it in quotes?"
   ]
  },
  {
   "cell_type": "code",
   "execution_count": 35,
   "id": "916d26d7",
   "metadata": {},
   "outputs": [
    {
     "ename": "SyntaxError",
     "evalue": "invalid syntax (1904321618.py, line 1)",
     "output_type": "error",
     "traceback": [
      "\u001b[0;36m  Cell \u001b[0;32mIn[35], line 1\u001b[0;36m\u001b[0m\n\u001b[0;31m    WOOHOO! # this will error\u001b[0m\n\u001b[0m          ^\u001b[0m\n\u001b[0;31mSyntaxError\u001b[0m\u001b[0;31m:\u001b[0m invalid syntax\n"
     ]
    }
   ],
   "source": [
    "WOOHOO! # this will error "
   ]
  },
  {
   "cell_type": "markdown",
   "id": "23828c45",
   "metadata": {},
   "source": [
    "It throws out a `SyntaxError` because code cells think in terms of math, and any word not in quotes is considered to be a variable that stores information or means something. \n",
    "\n",
    "In this notebook, we haven't told it what Woohoo means -- it's just an empty variable holding no information, so it complains and says \"I don't know what Woohoo is supposed to be.\" "
   ]
  },
  {
   "cell_type": "markdown",
   "id": "790cf6f7",
   "metadata": {},
   "source": [
    "**Exercise 3:** Predict the values of each variable : a, b, c, upon execution of the following code block !"
   ]
  },
  {
   "cell_type": "raw",
   "id": "f9b9b158",
   "metadata": {},
   "source": [
    "a = 2 \n",
    "b = 3 \n",
    "a, b = b, a "
   ]
  },
  {
   "cell_type": "code",
   "execution_count": 36,
   "id": "4f122d6a",
   "metadata": {},
   "outputs": [
    {
     "name": "stdout",
     "output_type": "stream",
     "text": [
      "value assigned to a\n"
     ]
    },
    {
     "ename": "NameError",
     "evalue": "name 'a' is not defined",
     "output_type": "error",
     "traceback": [
      "\u001b[0;31m---------------------------------------------------------------------------\u001b[0m",
      "\u001b[0;31mNameError\u001b[0m                                 Traceback (most recent call last)",
      "Cell \u001b[0;32mIn[36], line 2\u001b[0m\n\u001b[1;32m      1\u001b[0m \u001b[38;5;28mprint\u001b[39m(\u001b[38;5;124m\"\u001b[39m\u001b[38;5;124mvalue assigned to a\u001b[39m\u001b[38;5;124m\"\u001b[39m)\n\u001b[0;32m----> 2\u001b[0m \u001b[38;5;28mprint\u001b[39m(\u001b[43ma\u001b[49m)\n\u001b[1;32m      3\u001b[0m \u001b[38;5;28mprint\u001b[39m(\u001b[38;5;124m\"\u001b[39m\u001b[38;5;124mvalue assigned to b\u001b[39m\u001b[38;5;124m\"\u001b[39m)\n\u001b[1;32m      4\u001b[0m \u001b[38;5;28mprint\u001b[39m(b)\n",
      "\u001b[0;31mNameError\u001b[0m: name 'a' is not defined"
     ]
    }
   ],
   "source": [
    "print(\"value assigned to a\")\n",
    "print(a)\n",
    "print(\"value assigned to b\")\n",
    "print(b)"
   ]
  },
  {
   "cell_type": "markdown",
   "id": "af7c2d00",
   "metadata": {},
   "source": [
    "## Arrays \n",
    "Computers are most useful when you can use a small amount of code to *do the same action* to *many different things*.\n",
    "\n",
    "In this course, you will learn to work with tables, and we will often use arrays to represent columns in a table so that we can conveniently operate on large collections of data as a group !\n",
    "\n",
    "<div class=\"alert alert-info\">\n",
    "\n",
    "**Arrays** are how we put many values in one place so that we can operate on them as a group. For example, if `billions_of_numbers` is an array of numbers, the expression\n",
    "\n",
    "    .18 * billions_of_numbers\n",
    "\n",
    "gives a new array of numbers that contains the result of multiplying **each number** in `billions_of_numbers` by .18.  Arrays are not limited to numbers; we can also put all the words in a book into an array of strings.\n",
    "</ div>"
   ]
  },
  {
   "cell_type": "markdown",
   "id": "a059599d",
   "metadata": {},
   "source": [
    "Concretely, an array is a **collection of values of the same type**. "
   ]
  },
  {
   "cell_type": "markdown",
   "id": "76bac16e",
   "metadata": {},
   "source": [
    "### Making Arrays \n",
    "\n",
    "First, let's learn how to *manually* input values into an array. This typically isn't how programs work. Normally, we create arrays by loading them from an external source, like a data file.\n",
    "\n",
    "To create an array by hand, call the function make_array. Each argument you pass to make_array will be in the array it returns. Run this cell to see an example:"
   ]
  },
  {
   "cell_type": "code",
   "execution_count": 37,
   "id": "ef7fa79f",
   "metadata": {},
   "outputs": [
    {
     "ename": "NameError",
     "evalue": "name 'make_array' is not defined",
     "output_type": "error",
     "traceback": [
      "\u001b[0;31m---------------------------------------------------------------------------\u001b[0m",
      "\u001b[0;31mNameError\u001b[0m                                 Traceback (most recent call last)",
      "Cell \u001b[0;32mIn[37], line 1\u001b[0m\n\u001b[0;32m----> 1\u001b[0m \u001b[43mmake_array\u001b[49m(\u001b[38;5;241m0.987\u001b[39m, \u001b[38;5;241m4.75\u001b[39m, \u001b[38;5;241m-\u001b[39m\u001b[38;5;241m1.5\u001b[39m)\n",
      "\u001b[0;31mNameError\u001b[0m: name 'make_array' is not defined"
     ]
    }
   ],
   "source": [
    "make_array(0.987, 4.75, -1.5)"
   ]
  },
  {
   "cell_type": "markdown",
   "id": "f9b1ea15",
   "metadata": {},
   "source": [
    "Each value in an array (in the above case, the numbers 0.987, 4.75, -1.5) is called an **element** of that array.\n",
    "\n",
    "Arrays themselves are also values, just like numbers and strings. "
   ]
  },
  {
   "cell_type": "markdown",
   "id": "ec1ae154",
   "metadata": {},
   "source": [
    " __That means you can assign them to names or use them as arguments to functions. For example, len(<some_array>) returns the number of elements in some_array.__"
   ]
  },
  {
   "cell_type": "markdown",
   "id": "cea8f8a2",
   "metadata": {},
   "source": [
    "**Exercise 4:**  Make an array containing the five strings \"Hello\", \",\", \" \", \"world\", and \"!\". (The third one is a single space inside quotes.) Name it hello_world_components.\n",
    "\n",
    "Note: If you evaluate hello_world_components, you'll notice some extra information in addition to its contents: dtype='<U5'. That's just NumPy's extremely cryptic way of saying that the data types in the array are strings."
   ]
  },
  {
   "cell_type": "code",
   "execution_count": 38,
   "id": "d73e29cb",
   "metadata": {},
   "outputs": [],
   "source": [
    "#Complete Exercise 4 here"
   ]
  },
  {
   "cell_type": "markdown",
   "id": "a32d6113",
   "metadata": {},
   "source": [
    "## Functions "
   ]
  },
  {
   "cell_type": "markdown",
   "id": "97e11988",
   "metadata": {},
   "source": [
    "Functions are useful when you want to repeat a series of steps on multiple different objects, but don't \n",
    "want to type out the steps over and over again. Many functions are built into Python already such as the table functions you will see later in this lab. You can also make your own functions. You won't have to define functions, but it's important to know how they work and how to understand what each does.\n",
    "\n",
    "Here are some key things to keep in mind when working with functions : \n",
    "   \n",
    "1. Functions generally take a set of **parameters** (also called inputs), which define the objects they will use when they are run.\n"
   ]
  },
  {
   "cell_type": "markdown",
   "id": "19d05a51",
   "metadata": {},
   "source": [
    "2. Whenever we want to create new function, we start with a def statement, which follows this general syntax: \n",
    "   "
   ]
  },
  {
   "cell_type": "raw",
   "id": "1c5d250e",
   "metadata": {},
   "source": [
    "     def <function_name> (<parameter_1>, <parameter_2>, ...) :"
   ]
  },
  {
   "cell_type": "markdown",
   "id": "910dc705",
   "metadata": {},
   "source": [
    "\n",
    "Don't forget the colon at the end of the `def` statement !\n",
    "\n",
    "The above feature is also more formally called the **signature** of a function. \n",
    "        \n",
    "The **body** of the funciton should be indented inside of the def statement, as seen in the example below. "
   ]
  },
  {
   "cell_type": "markdown",
   "id": "f3ca1b28",
   "metadata": {},
   "source": [
    "The following is a break-down of the very simple function called add_two below:\n",
    "\n",
    "1. add_n_to_x is the name of the function\n",
    "2. `x` and `n` in parentheses are the inputs (also called parameters): that you put into the function\n",
    "3. The red text in triple quotes tells us how to use the function and is called a docstring -- it is essentially the instructions manual for a function\n",
    "4. The expression next to return at the bottom is what the function evaluates to \n",
    "\n",
    "**Note : your function should always have a `return` statement! Otherwise, it will return `None` which is the Python equivalent to nothing.**\n",
    "\n",
    "Now that you know the general structure for a function definition, here is how to read a docstring:\n",
    "\n",
    "`Parameters` tell you details on what goes into the function\n",
    "`Returns` tells you what the function outputs\n",
    "`Example` provides an example of the function in use"
   ]
  },
  {
   "cell_type": "code",
   "execution_count": 39,
   "id": "9ebd4858",
   "metadata": {},
   "outputs": [],
   "source": [
    "def add_n_to_x(n, x): #This is the general syntax for wriitng your own function \n",
    "    \"\"\"Adds n to  x.\n",
    "    \n",
    "    Parameters\n",
    "    ----------\n",
    "    x:\n",
    "        The number we want to increment n by. \n",
    "    n:\n",
    "        The given number that x will be added to.\n",
    "        \n",
    "    Returns\n",
    "    -------\n",
    "        A number which is n greater than x.\n",
    "        \n",
    "    Example\n",
    "    -------\n",
    "    >>> add_n_to_x(-1,2)\n",
    "    1\n",
    "    \"\"\"\n",
    "    return x + n"
   ]
  },
  {
   "cell_type": "markdown",
   "id": "cedbd8cb",
   "metadata": {},
   "source": [
    "As before, using the docstring, what do you think each call to this function outputs ? Run each cell to see if you are correct !"
   ]
  },
  {
   "cell_type": "code",
   "execution_count": 40,
   "id": "9df4c15c",
   "metadata": {},
   "outputs": [
    {
     "data": {
      "text/plain": [
       "1"
      ]
     },
     "execution_count": 40,
     "metadata": {},
     "output_type": "execute_result"
    }
   ],
   "source": [
    "add_n_to_x(-1, 2) "
   ]
  },
  {
   "cell_type": "markdown",
   "id": "3f7dcaf3",
   "metadata": {},
   "source": [
    "## Loops"
   ]
  },
  {
   "cell_type": "markdown",
   "id": "95277af1",
   "metadata": {},
   "source": [
    "If a code looks a little repetitive, we can use what is called a for loop, to have the computer do it for us! The code in the cell below does the exact same thing as the cell above, just in a shorter way!"
   ]
  },
  {
   "cell_type": "code",
   "execution_count": 48,
   "id": "854ed549",
   "metadata": {},
   "outputs": [
    {
     "name": "stdout",
     "output_type": "stream",
     "text": [
      "hi!!\n",
      "hi!!\n",
      "hi!!\n",
      "hi!!\n",
      "hi!!\n",
      "hi!!\n"
     ]
    }
   ],
   "source": [
    "for x in range(6): # Do the intented action 6 times\n",
    "    print(\"hi!!\")\n",
    "    \n",
    "#This performs the given action 6 times. "
   ]
  },
  {
   "cell_type": "markdown",
   "id": "a4e606d3",
   "metadata": {},
   "source": [
    "## Congratulations! You finished the notebook. \n",
    "You can now explore resources related to jupyter notebooks here: \n",
    "\n",
    "1. [BIDS on Jupyter](https://bids.berkeley.edu/research/project-jupyter)\n",
    "2. [Offical website for Jupyter](https://jupyter.org/)\n",
    "3. [Video by BIDS on the evolution of Jupyter Notebook](https://bids.berkeley.edu/events/jupyterlab-evolution-jupyter-notebook)"
   ]
  },
  {
   "cell_type": "markdown",
   "id": "9c3d959c",
   "metadata": {},
   "source": [
    "## Feedback Form"
   ]
  },
  {
   "cell_type": "code",
   "execution_count": null,
   "id": "4465f88b",
   "metadata": {},
   "outputs": [],
   "source": []
  }
 ],
 "metadata": {
  "kernelspec": {
   "display_name": "Python 3 (ipykernel)",
   "language": "python",
   "name": "python3"
  },
  "language_info": {
   "codemirror_mode": {
    "name": "ipython",
    "version": 3
   },
   "file_extension": ".py",
   "mimetype": "text/x-python",
   "name": "python",
   "nbconvert_exporter": "python",
   "pygments_lexer": "ipython3",
   "version": "3.9.15"
  }
 },
 "nbformat": 4,
 "nbformat_minor": 5
}
