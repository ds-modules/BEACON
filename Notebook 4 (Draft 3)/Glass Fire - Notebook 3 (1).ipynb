{
 "cells": [
  {
   "cell_type": "code",
   "execution_count": 10,
   "id": "b3115551",
   "metadata": {},
   "outputs": [],
   "source": [
    "from datascience import *\n",
    "import pandas as pd\n",
    "import numpy as np"
   ]
  },
  {
   "cell_type": "markdown",
   "id": "4df6784f",
   "metadata": {},
   "source": [
    "## Glass Fire\n",
    "\n"
   ]
  },
  {
   "cell_type": "markdown",
   "id": "3ea26a9d",
   "metadata": {},
   "source": [
    "The Glass Fire was one of the largest in the 2020 California wildfire season, burning over 67000 acres in Napa and Sonoma counties over the course of 23 days. The effect of this fire on regional air quality was significant and long lasting. "
   ]
  },
  {
   "cell_type": "code",
   "execution_count": 2,
   "id": "2b8e3567",
   "metadata": {},
   "outputs": [
    {
     "data": {
      "text/html": [
       "<table border=\"1\" class=\"dataframe\">\n",
       "    <thead>\n",
       "        <tr>\n",
       "            <th>local_timestamp</th> <th>datetime</th> <th>node_id</th> <th>epoch</th> <th>julian_day</th> <th>co_ppm</th> <th>co_ppm_QC_level</th> <th>co2_ppm</th> <th>co2_ppm_QC_level</th> <th>o3_ppm</th> <th>o3_ppm_QC_level</th> <th>PM_2.5_ug/m3</th> <th>PM_2.5_ug/m3_QC_level</th>\n",
       "        </tr>\n",
       "    </thead>\n",
       "    <tbody>\n",
       "        <tr>\n",
       "            <td>2020-09-27 14:00:00</td> <td>2020-09-27 21:00:00</td> <td>63     </td> <td>1.60124e+09</td> <td>271.875   </td> <td>0.13  </td> <td>2              </td> <td>422.5  </td> <td>2               </td> <td>-999  </td> <td>nan            </td> <td>-999        </td> <td>nan                  </td>\n",
       "        </tr>\n",
       "        <tr>\n",
       "            <td>2020-09-27 15:00:00</td> <td>2020-09-27 22:00:00</td> <td>63     </td> <td>1.60124e+09</td> <td>271.917   </td> <td>0.13  </td> <td>2              </td> <td>418.1  </td> <td>2               </td> <td>-999  </td> <td>nan            </td> <td>-999        </td> <td>nan                  </td>\n",
       "        </tr>\n",
       "        <tr>\n",
       "            <td>2020-09-27 16:00:00</td> <td>2020-09-27 23:00:00</td> <td>63     </td> <td>1.60125e+09</td> <td>271.958   </td> <td>0.2   </td> <td>2              </td> <td>414.1  </td> <td>2               </td> <td>-999  </td> <td>nan            </td> <td>-999        </td> <td>nan                  </td>\n",
       "        </tr>\n",
       "        <tr>\n",
       "            <td>2020-09-27 17:00:00</td> <td>2020-09-28 00:00:00</td> <td>63     </td> <td>1.60125e+09</td> <td>272       </td> <td>0.23  </td> <td>2              </td> <td>409.9  </td> <td>2               </td> <td>-999  </td> <td>nan            </td> <td>-999        </td> <td>nan                  </td>\n",
       "        </tr>\n",
       "        <tr>\n",
       "            <td>2020-09-27 18:00:00</td> <td>2020-09-28 01:00:00</td> <td>63     </td> <td>1.60125e+09</td> <td>272.042   </td> <td>0.22  </td> <td>2              </td> <td>406.9  </td> <td>2               </td> <td>-999  </td> <td>nan            </td> <td>-999        </td> <td>nan                  </td>\n",
       "        </tr>\n",
       "        <tr>\n",
       "            <td>2020-09-27 19:00:00</td> <td>2020-09-28 02:00:00</td> <td>63     </td> <td>1.60126e+09</td> <td>272.083   </td> <td>0.21  </td> <td>2              </td> <td>408.3  </td> <td>2               </td> <td>-999  </td> <td>nan            </td> <td>-999        </td> <td>nan                  </td>\n",
       "        </tr>\n",
       "        <tr>\n",
       "            <td>2020-09-27 20:00:00</td> <td>2020-09-28 03:00:00</td> <td>63     </td> <td>1.60126e+09</td> <td>272.125   </td> <td>0.25  </td> <td>2              </td> <td>428.8  </td> <td>2               </td> <td>-999  </td> <td>nan            </td> <td>-999        </td> <td>nan                  </td>\n",
       "        </tr>\n",
       "        <tr>\n",
       "            <td>2020-09-27 21:00:00</td> <td>2020-09-28 04:00:00</td> <td>63     </td> <td>1.60127e+09</td> <td>272.167   </td> <td>0.34  </td> <td>2              </td> <td>470.6  </td> <td>2               </td> <td>-999  </td> <td>nan            </td> <td>-999        </td> <td>nan                  </td>\n",
       "        </tr>\n",
       "        <tr>\n",
       "            <td>2020-09-27 22:00:00</td> <td>2020-09-28 05:00:00</td> <td>63     </td> <td>1.60127e+09</td> <td>272.208   </td> <td>0.41  </td> <td>2              </td> <td>501.4  </td> <td>2               </td> <td>-999  </td> <td>nan            </td> <td>-999        </td> <td>nan                  </td>\n",
       "        </tr>\n",
       "        <tr>\n",
       "            <td>2020-09-27 23:00:00</td> <td>2020-09-28 06:00:00</td> <td>63     </td> <td>1.60127e+09</td> <td>272.25    </td> <td>0.38  </td> <td>2              </td> <td>494.2  </td> <td>2               </td> <td>-999  </td> <td>nan            </td> <td>-999        </td> <td>nan                  </td>\n",
       "        </tr>\n",
       "    </tbody>\n",
       "</table>\n",
       "<p>... (543 rows omitted)</p>"
      ],
      "text/plain": [
       "local_timestamp     | datetime            | node_id | epoch       | julian_day | co_ppm | co_ppm_QC_level | co2_ppm | co2_ppm_QC_level | o3_ppm | o3_ppm_QC_level | PM_2.5_ug/m3 | PM_2.5_ug/m3_QC_level\n",
       "2020-09-27 14:00:00 | 2020-09-27 21:00:00 | 63      | 1.60124e+09 | 271.875    | 0.13   | 2               | 422.5   | 2                | -999   | nan             | -999         | nan\n",
       "2020-09-27 15:00:00 | 2020-09-27 22:00:00 | 63      | 1.60124e+09 | 271.917    | 0.13   | 2               | 418.1   | 2                | -999   | nan             | -999         | nan\n",
       "2020-09-27 16:00:00 | 2020-09-27 23:00:00 | 63      | 1.60125e+09 | 271.958    | 0.2    | 2               | 414.1   | 2                | -999   | nan             | -999         | nan\n",
       "2020-09-27 17:00:00 | 2020-09-28 00:00:00 | 63      | 1.60125e+09 | 272        | 0.23   | 2               | 409.9   | 2                | -999   | nan             | -999         | nan\n",
       "2020-09-27 18:00:00 | 2020-09-28 01:00:00 | 63      | 1.60125e+09 | 272.042    | 0.22   | 2               | 406.9   | 2                | -999   | nan             | -999         | nan\n",
       "2020-09-27 19:00:00 | 2020-09-28 02:00:00 | 63      | 1.60126e+09 | 272.083    | 0.21   | 2               | 408.3   | 2                | -999   | nan             | -999         | nan\n",
       "2020-09-27 20:00:00 | 2020-09-28 03:00:00 | 63      | 1.60126e+09 | 272.125    | 0.25   | 2               | 428.8   | 2                | -999   | nan             | -999         | nan\n",
       "2020-09-27 21:00:00 | 2020-09-28 04:00:00 | 63      | 1.60127e+09 | 272.167    | 0.34   | 2               | 470.6   | 2                | -999   | nan             | -999         | nan\n",
       "2020-09-27 22:00:00 | 2020-09-28 05:00:00 | 63      | 1.60127e+09 | 272.208    | 0.41   | 2               | 501.4   | 2                | -999   | nan             | -999         | nan\n",
       "2020-09-27 23:00:00 | 2020-09-28 06:00:00 | 63      | 1.60127e+09 | 272.25     | 0.38   | 2               | 494.2   | 2                | -999   | nan             | -999         | nan\n",
       "... (543 rows omitted)"
      ]
     },
     "execution_count": 2,
     "metadata": {},
     "output_type": "execute_result"
    }
   ],
   "source": [
    "glass_fire_data = Table.read_table('Dan Mini Elementary School_Glass Fire.csv')\n",
    "glass_fire_data"
   ]
  },
  {
   "cell_type": "markdown",
   "id": "b2a599fb",
   "metadata": {},
   "source": [
    "> Before star implementinf EDA on our dataset. Let's get to know our data more. So, Let's start with getting the number of rows and columns using the following functions. "
   ]
  },
  {
   "cell_type": "code",
   "execution_count": 3,
   "id": "f1b3a7b7",
   "metadata": {},
   "outputs": [
    {
     "name": "stdout",
     "output_type": "stream",
     "text": [
      "This dataset has: 553 rows\n"
     ]
    }
   ],
   "source": [
    "# .num_rows -> returns the number of rows in a dataset \n",
    "glass_fire_data_rows = glass_fire_data.num_rows\n",
    "print(f\"This dataset has: {glass_fire_data_rows} rows\")"
   ]
  },
  {
   "cell_type": "code",
   "execution_count": null,
   "id": "83f71152",
   "metadata": {},
   "outputs": [],
   "source": []
  },
  {
   "cell_type": "code",
   "execution_count": 4,
   "id": "54e080e3",
   "metadata": {},
   "outputs": [
    {
     "name": "stdout",
     "output_type": "stream",
     "text": [
      "This dataset has: 13 'columns\n"
     ]
    }
   ],
   "source": [
    "# .num_columns -> returns the number of columns in a dataset\n",
    "glass_fire_data_columns = glass_fire_data.num_columns\n",
    "print(f\"This dataset has: {glass_fire_data_columns} 'columns\")"
   ]
  },
  {
   "cell_type": "markdown",
   "id": "fad12c18",
   "metadata": {},
   "source": [
    "#### EDA  (Exaploratory Data Analysis)"
   ]
  },
  {
   "cell_type": "markdown",
   "id": "678c78e8",
   "metadata": {},
   "source": [
    "Now that we know a little more about our dataset such as the dimension we can start our EDA to make this dataset cleaner. \n",
    "Let's ask ourselves what are the columns we are going to need to answer the questions we want to answer?"
   ]
  },
  {
   "cell_type": "markdown",
   "id": "02f4d162",
   "metadata": {},
   "source": [
    "> Hint: Observe the columns and their values. Do you notice particular values that won't tell us anything or are missing? "
   ]
  },
  {
   "cell_type": "code",
   "execution_count": 5,
   "id": "6c20f949",
   "metadata": {},
   "outputs": [],
   "source": [
    "# Check the complete values of a column \n",
    "# hint: The [] can be a good approach to check the values of a selected column\n",
    "\n"
   ]
  },
  {
   "cell_type": "code",
   "execution_count": 6,
   "id": "6f163fd7",
   "metadata": {},
   "outputs": [],
   "source": [
    "# Drop columns that we won't need \n",
    "# hint: The function .drop() would be helpful here\n",
    "\n"
   ]
  },
  {
   "cell_type": "code",
   "execution_count": 7,
   "id": "220802af",
   "metadata": {},
   "outputs": [],
   "source": [
    "# Solution\n",
    "# glass_fire_data['o3_ppm']\n",
    "# glass_fire_data['o3_ppm_QC_level']\n",
    "# glass_fire_data['PM_2.5_ug/m3']\n",
    "# glass_fire_data['PM_2.5_ug/m3_QC_level']"
   ]
  },
  {
   "cell_type": "code",
   "execution_count": 8,
   "id": "a0f5cba2",
   "metadata": {},
   "outputs": [
    {
     "data": {
      "text/html": [
       "<table border=\"1\" class=\"dataframe\">\n",
       "    <thead>\n",
       "        <tr>\n",
       "            <th>local_timestamp</th> <th>node_id</th> <th>epoch</th> <th>julian_day</th> <th>co_ppm</th> <th>co_ppm_QC_level</th> <th>co2_ppm</th> <th>co2_ppm_QC_level</th>\n",
       "        </tr>\n",
       "    </thead>\n",
       "    <tbody>\n",
       "        <tr>\n",
       "            <td>2020-09-27 14:00:00</td> <td>63     </td> <td>1.60124e+09</td> <td>271.875   </td> <td>0.13  </td> <td>2              </td> <td>422.5  </td> <td>2               </td>\n",
       "        </tr>\n",
       "        <tr>\n",
       "            <td>2020-09-27 15:00:00</td> <td>63     </td> <td>1.60124e+09</td> <td>271.917   </td> <td>0.13  </td> <td>2              </td> <td>418.1  </td> <td>2               </td>\n",
       "        </tr>\n",
       "        <tr>\n",
       "            <td>2020-09-27 16:00:00</td> <td>63     </td> <td>1.60125e+09</td> <td>271.958   </td> <td>0.2   </td> <td>2              </td> <td>414.1  </td> <td>2               </td>\n",
       "        </tr>\n",
       "        <tr>\n",
       "            <td>2020-09-27 17:00:00</td> <td>63     </td> <td>1.60125e+09</td> <td>272       </td> <td>0.23  </td> <td>2              </td> <td>409.9  </td> <td>2               </td>\n",
       "        </tr>\n",
       "        <tr>\n",
       "            <td>2020-09-27 18:00:00</td> <td>63     </td> <td>1.60125e+09</td> <td>272.042   </td> <td>0.22  </td> <td>2              </td> <td>406.9  </td> <td>2               </td>\n",
       "        </tr>\n",
       "        <tr>\n",
       "            <td>2020-09-27 19:00:00</td> <td>63     </td> <td>1.60126e+09</td> <td>272.083   </td> <td>0.21  </td> <td>2              </td> <td>408.3  </td> <td>2               </td>\n",
       "        </tr>\n",
       "        <tr>\n",
       "            <td>2020-09-27 20:00:00</td> <td>63     </td> <td>1.60126e+09</td> <td>272.125   </td> <td>0.25  </td> <td>2              </td> <td>428.8  </td> <td>2               </td>\n",
       "        </tr>\n",
       "        <tr>\n",
       "            <td>2020-09-27 21:00:00</td> <td>63     </td> <td>1.60127e+09</td> <td>272.167   </td> <td>0.34  </td> <td>2              </td> <td>470.6  </td> <td>2               </td>\n",
       "        </tr>\n",
       "        <tr>\n",
       "            <td>2020-09-27 22:00:00</td> <td>63     </td> <td>1.60127e+09</td> <td>272.208   </td> <td>0.41  </td> <td>2              </td> <td>501.4  </td> <td>2               </td>\n",
       "        </tr>\n",
       "        <tr>\n",
       "            <td>2020-09-27 23:00:00</td> <td>63     </td> <td>1.60127e+09</td> <td>272.25    </td> <td>0.38  </td> <td>2              </td> <td>494.2  </td> <td>2               </td>\n",
       "        </tr>\n",
       "    </tbody>\n",
       "</table>\n",
       "<p>... (543 rows omitted)</p>"
      ],
      "text/plain": [
       "local_timestamp     | node_id | epoch       | julian_day | co_ppm | co_ppm_QC_level | co2_ppm | co2_ppm_QC_level\n",
       "2020-09-27 14:00:00 | 63      | 1.60124e+09 | 271.875    | 0.13   | 2               | 422.5   | 2\n",
       "2020-09-27 15:00:00 | 63      | 1.60124e+09 | 271.917    | 0.13   | 2               | 418.1   | 2\n",
       "2020-09-27 16:00:00 | 63      | 1.60125e+09 | 271.958    | 0.2    | 2               | 414.1   | 2\n",
       "2020-09-27 17:00:00 | 63      | 1.60125e+09 | 272        | 0.23   | 2               | 409.9   | 2\n",
       "2020-09-27 18:00:00 | 63      | 1.60125e+09 | 272.042    | 0.22   | 2               | 406.9   | 2\n",
       "2020-09-27 19:00:00 | 63      | 1.60126e+09 | 272.083    | 0.21   | 2               | 408.3   | 2\n",
       "2020-09-27 20:00:00 | 63      | 1.60126e+09 | 272.125    | 0.25   | 2               | 428.8   | 2\n",
       "2020-09-27 21:00:00 | 63      | 1.60127e+09 | 272.167    | 0.34   | 2               | 470.6   | 2\n",
       "2020-09-27 22:00:00 | 63      | 1.60127e+09 | 272.208    | 0.41   | 2               | 501.4   | 2\n",
       "2020-09-27 23:00:00 | 63      | 1.60127e+09 | 272.25     | 0.38   | 2               | 494.2   | 2\n",
       "... (543 rows omitted)"
      ]
     },
     "execution_count": 8,
     "metadata": {},
     "output_type": "execute_result"
    }
   ],
   "source": [
    "# Solution\n",
    "glass_fire_data_updated = glass_fire_data.drop('datetime', \n",
    "                                               'o3_ppm', \n",
    "                                               'o3_ppm_QC_level', \n",
    "                                               'PM_2.5_ug/m3', \n",
    "                                               'PM_2.5_ug/m3_QC_level')\n",
    "glass_fire_data_updated"
   ]
  },
  {
   "cell_type": "markdown",
   "id": "12fe14b2",
   "metadata": {},
   "source": [
    "> Our dataset now is smaller but it has the columns that will be usefult at the moment of our visualization."
   ]
  },
  {
   "cell_type": "code",
   "execution_count": 62,
   "id": "cb682a29",
   "metadata": {},
   "outputs": [],
   "source": [
    "# glass_fire_data_updated.hist('local_timestamp', 'co_ppm')\n",
    "# glass_fire_data_updated['co_ppm']\n",
    "# glass_fire_data_updated = glass_fire_data_updated.with_column('Date', 'na')\n",
    "# glass_fire_data_updated = glass_fire_data_updated.with_column('Time', 'na')\n",
    "# glass_fire_data_updated"
   ]
  },
  {
   "cell_type": "code",
   "execution_count": null,
   "id": "897f1b5a",
   "metadata": {},
   "outputs": [],
   "source": []
  },
  {
   "cell_type": "code",
   "execution_count": null,
   "id": "c3ad992f",
   "metadata": {},
   "outputs": [],
   "source": []
  }
 ],
 "metadata": {
  "kernelspec": {
   "display_name": "Python 3 (ipykernel)",
   "language": "python",
   "name": "python3"
  },
  "language_info": {
   "codemirror_mode": {
    "name": "ipython",
    "version": 3
   },
   "file_extension": ".py",
   "mimetype": "text/x-python",
   "name": "python",
   "nbconvert_exporter": "python",
   "pygments_lexer": "ipython3",
   "version": "3.9.15"
  }
 },
 "nbformat": 4,
 "nbformat_minor": 5
}
