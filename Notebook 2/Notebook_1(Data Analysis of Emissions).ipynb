{
 "cells": [
  {
   "cell_type": "code",
   "execution_count": 3,
   "id": "45f15bf1",
   "metadata": {},
   "outputs": [],
   "source": [
    "from datascience import * "
   ]
  },
  {
   "cell_type": "markdown",
   "id": "c163572d",
   "metadata": {},
   "source": [
    "# Introduction to EDA (Exploratory Data Analysis)\n",
    "\n",
    "In this notebook, you will be introduced to data science management methods (e.g. manipulating tables, naming columns, taking a subset of a data, etc.) using a dataset of emissions over the span of 1 year. The goal is to understand more about the atmosphere while answering questions such as: **Are emissions higher in the daytime?** "
   ]
  },
  {
   "cell_type": "markdown",
   "id": "a44eed04",
   "metadata": {},
   "source": [
    "## Exploring Emissions and the Atmosphere\n",
    "\n",
    "**Emissions** are gases and particles that are released into the air. They can come from a variety of sources, including cars, factories, power plants, and even natural sources like volcanoes.\n",
    "    When we talk about emissions, we're often talking about greenhouse gas emissions. These are gases like carbon dioxide, methane, and nitrous oxide that trap heat in the Earth's atmosphere and contribute to global warming and climate change.Given the current concerns regarding Global warming and we need to acknowledge that every year around 10 Gigatons of carbon (that’s 10 x 109 tons of carbon per year, written as GtC/yr) is emitted by combustion of fossil fuels, which has devastating enviornmental effects. \n",
    "\n",
    "The **Atmospere** is a layer of gas that surrounds the Earth. It's made up of different gases, including nitrogen, oxygen, and a small amount of other gases like carbon dioxide and methane.\n",
    "Understanding it's impact is super important because it protects us from harmful radiation from the sun and helps regulate the temperature of the Earth. It's kind of like a blanket that keeps the Earth warm and cozy.\n",
    "\n",
    "**Data Analytics** plays a important role in answering questions like, where does all this carbon come from? Where does it all go? How does it get there?"
   ]
  },
  {
   "cell_type": "markdown",
   "id": "852c2498",
   "metadata": {},
   "source": [
    "\n",
    "<div class=\" alert alert-info\">\n",
    "\n",
    "## Reflection Question:\n",
    "How can we as individuals reduce our personal emissions, and what are some practical steps we can take to make a positive impact on the environment?\n",
    "\n",
    "</div> \n"
   ]
  },
  {
   "cell_type": "markdown",
   "id": "2294aadc",
   "metadata": {},
   "source": [
    "## Using Data Analytics to understand emissions\n",
    "#### Introduction to the BEACON Dataset:\n",
    "BEACO2N (Berkeley Environmental Air-quality & CO2 Network) is a new strategy for understanding green house gases (GHGs) and air quality at street level in near real time, giving pedestrians, companies, and policy-makers unique insight into their GHG emissions and air quality experiences. \n",
    "    Through their technology, BEACO2N is able to create a **highly detailed map** of CO2 and pollutants in our air. The data provides a clear route to evaluating the effectiveness of local and regional efforts to reduce GHG emissions, improve air quality, improve environmental equity and reduce the detrimental effects of emissions on public health.\n",
    "\n",
    "Check out the website here for some cool visulizations and data: http://beacon.berkeley.edu/metadata/\n",
    "\n",
    "<img src=\"b.png\" align=\"center\"/>\n",
    "\n",
    "#### Who collected the data?\n",
    "BEACO2N data is collected by a network of sensors, also known as \"nodes\", that are deployed in various locations. The nodes are part of a collaborative effort between different organizations, including academic institutions, government agencies, and non-profit organizations. The data collected by the nodes is made available to researchers and the public for analysis and use in developing solutions for climate change mitigation and adaptation.\n",
    "\n",
    "#### How was the data collected?\n",
    "BEACO2N blankets interesting locations with a network of sensors - called **\"nodes\"** -  approximately 1 mile (2km) apart from each other to measure green house gases and air quality. Although their individual nodes are less precise than the highly sensitive traditional sensors, when working as part of a network, our nodes create a highly detailed map of CO2 and pollutants in our air. Their nodes are sampling the air for 6 gases and also aerosol in the same locations, every minute of the day.\n",
    "\n",
    "**CO2**, or carbon dioxide, is typically measured in parts per million (ppm) or parts per billion (ppb). This is because CO2 is a trace gas in the Earth's atmosphere, meaning it makes up only a small fraction of the gases in the air. To measure the concentration of CO2 in the atmosphere, scientists use instruments like infrared gas analyzers that can detect and quantify the amount of CO2 in a sample of air. \n",
    "\n",
    "#### What is represented in the data?\n",
    "The locations BEACO2N tracks have nodes that contain sensors for **CO2, NO, NO2, O3, CO, and aerosol** in addition to sensors for **temperature, pressure, and relative humidity**. Data from these sensors are collected once every five seconds onto a miniature computer which then sends the data to a centralized server. When combined with data from other nodes, it can be used to produce concentration maps, track pollution plumes, and to constrain calculations of emissions, to name a few possibilities."
   ]
  },
  {
   "cell_type": "markdown",
   "id": "af600c73",
   "metadata": {},
   "source": [
    "## Understanding the data"
   ]
  },
  {
   "cell_type": "markdown",
   "id": "715778b9",
   "metadata": {},
   "source": [
    "For the puposes of this notebook we will be using a dataset of CO2 emissions from the beginning of 2022 to beginning of 2023.\n",
    "\n",
    "`Timestamp: 2022-01-01 23:00:00 to 2023-01-01 23:00:00` <br>\n",
    "`Node: Explortanium Bay`"
   ]
  },
  {
   "cell_type": "markdown",
   "id": "bd783cd5",
   "metadata": {},
   "source": [
    "#### The Dataset\n",
    "Based on the screenshot above, you should be able to download the metadata. You'll notice the file is saved as a '.csv'. A CSV (Comma Separated Values) file is a simple text file format used to store tabular data, which is commonly used in data science. In a CSV file, each row represents a single data record, and each column represents a specific attribute or feature of that record.\n",
    "\n",
    "The values in a CSV file are separated by commas, which means that each comma separates a different column of data. The first row of a CSV file typically contains column headings, which describe the data in each column.\n",
    "\n",
    "CSV files can be easily read and written by many software tools, including spreadsheet applications like Microsoft Excel, Google Sheets, or Python libraries like pandas. They are used in data science because they are a lightweight, easy-to-use format for storing and sharing large amounts of data, and they can be easily processed and analyzed by many programming languages and tools.\n"
   ]
  },
  {
   "cell_type": "markdown",
   "id": "f8082cce",
   "metadata": {},
   "source": [
    "<img src=\"csv.png\" align=\"center\"/>"
   ]
  },
  {
   "cell_type": "markdown",
   "id": "e3beeaac",
   "metadata": {},
   "source": [
    "<div class=\" alert alert-info\">\n",
    "Advanced: What are examples of other types of files?\n",
    "Working with different file types is an essential part of data science as it involves importing, exporting, and manipulating data from various sources. Here are some commonly used file types in data science and their explanations:\n",
    "\n",
    "1. CSV (Comma Separated Values) - CSV files are commonly used for storing tabular data where each row represents an observation and each column represents a variable. CSV files can be easily imported into various data analysis tools like Excel, R, or Python.\n",
    "2. Excel - Excel files (.xlsx) are commonly used for storing data in tabular form. Excel files can be easily imported into R or Python using dedicated libraries like readxl in R or openpyxl in Python.\n",
    "3. JSON (JavaScript Object Notation) - JSON files are used for storing structured data that can be easily understood by both humans and machines. JSON files are commonly used to store data that is transmitted between web applications.\n",
    "4. XML (Extensible Markup Language) - XML files are used for storing structured data that can be easily understood by machines. XML files are commonly used to store data that is transmitted between web applications.\n",
    "5. SQL (Structured Query Language) - SQL is used for managing relational databases. SQL files can be used to store data and query data from databases.\n",
    "6. TXT (Text) - TXT files are used for storing unstructured text data. TXT files can be easily imported into R or Python using the readr package in R or the open() function in Python.\n",
    "\n",
    "\n",
    "    \n",
    "</div>\n"
   ]
  },
  {
   "cell_type": "markdown",
   "id": "b47243dd",
   "metadata": {},
   "source": [
    "#### What makes a good dataset?\n",
    "Data faithfulness refers to the degree to which data accurately represents the underlying phenomenon it purports to describe. The following terms are important to consider when discussing data faithfulness:\n",
    "\n",
    "**Structure**: This refers to the organization of the data, including the format, schema, and relationships between different elements. Structured data is typically easier to analyze and interpret than unstructured data.\n",
    "\n",
    "**Granularity**: This refers to the level of detail in the data. Higher granularity means more detailed data, which may be useful in certain contexts but may also increase the risk of identifying individuals or sensitive information.\n",
    "\n",
    "**Scope**: This refers to the range of data being considered. For example, data may be limited to a specific geographic area or time period, which can impact its representativeness.\n",
    "\n",
    "**Temporality**: This refers to the time dimension of the data, including when it was collected, how frequently it is updated, and whether it captures changes over time. Temporal consistency is important for longitudinal analyses.\n",
    "\n",
    "**Faithfulness**: This refers to the accuracy and reliability of the data, including how it was collected, whether there were biases in the sampling or measurement processes, and whether the data accurately reflects the phenomenon being studied. High data faithfulness means that the data accurately represents the underlying reality, while low data faithfulness may lead to incorrect or biased conclusions."
   ]
  },
  {
   "cell_type": "markdown",
   "id": "b0b07090",
   "metadata": {},
   "source": [
    "### Reading in the Data\n",
    "\n",
    "In this section we are introducing the data and answer the following questions in the section below this statement: Why are emissions higher in the daytime? Why are concentrations higher at night and lower in the daytime?\n",
    "\n",
    "The command 'Table.read_table'. allows us create a new table by reading the file located in the filename\n",
    "\n"
   ]
  },
  {
   "cell_type": "code",
   "execution_count": 4,
   "id": "84f8a4cf",
   "metadata": {},
   "outputs": [
    {
     "data": {
      "text/html": [
       "<table border=\"1\" class=\"dataframe\">\n",
       "    <thead>\n",
       "        <tr>\n",
       "            <th>local_timestamp</th> <th>datetime</th> <th>node_id</th> <th>epoch</th> <th>julian_day</th> <th>co_ppm</th> <th>co_ppm_QC_level</th> <th>co2_ppm</th> <th>co2_ppm_QC_level</th> <th>o3_ppm</th> <th>o3_ppm_QC_level</th> <th>PM_2.5_ug/m3</th> <th>PM_2.5_ug/m3_QC_level</th>\n",
       "        </tr>\n",
       "    </thead>\n",
       "    <tbody>\n",
       "        <tr>\n",
       "            <td>2022-01-01 23:00:00</td> <td>2022-01-02 07:00:00</td> <td>48     </td> <td>1.64111e+09</td> <td>2.29167   </td> <td>0.24  </td> <td>2              </td> <td>-999   </td> <td>2               </td> <td>0.019 </td> <td>nan            </td> <td>-999        </td> <td>-999                 </td>\n",
       "        </tr>\n",
       "        <tr>\n",
       "            <td>2022-01-02 01:00:00</td> <td>2022-01-02 09:00:00</td> <td>48     </td> <td>1.64111e+09</td> <td>2.375     </td> <td>0.21  </td> <td>2              </td> <td>-999   </td> <td>2               </td> <td>0.0201</td> <td>nan            </td> <td>-999        </td> <td>-999                 </td>\n",
       "        </tr>\n",
       "        <tr>\n",
       "            <td>2022-01-02 02:00:00</td> <td>2022-01-02 10:00:00</td> <td>48     </td> <td>1.64112e+09</td> <td>2.41667   </td> <td>0.19  </td> <td>2              </td> <td>-999   </td> <td>2               </td> <td>0.0184</td> <td>nan            </td> <td>-999        </td> <td>-999                 </td>\n",
       "        </tr>\n",
       "        <tr>\n",
       "            <td>2022-01-02 03:00:00</td> <td>2022-01-02 11:00:00</td> <td>48     </td> <td>1.64112e+09</td> <td>2.45833   </td> <td>0.18  </td> <td>2              </td> <td>-999   </td> <td>2               </td> <td>0.0198</td> <td>nan            </td> <td>-999        </td> <td>-999                 </td>\n",
       "        </tr>\n",
       "        <tr>\n",
       "            <td>2022-01-02 04:00:00</td> <td>2022-01-02 12:00:00</td> <td>48     </td> <td>1.64112e+09</td> <td>2.5       </td> <td>0.17  </td> <td>2              </td> <td>-999   </td> <td>2               </td> <td>0.0185</td> <td>nan            </td> <td>-999        </td> <td>-999                 </td>\n",
       "        </tr>\n",
       "        <tr>\n",
       "            <td>2022-01-02 05:00:00</td> <td>2022-01-02 13:00:00</td> <td>48     </td> <td>1.64113e+09</td> <td>2.54167   </td> <td>0.17  </td> <td>2              </td> <td>-999   </td> <td>2               </td> <td>0.0207</td> <td>nan            </td> <td>-999        </td> <td>-999                 </td>\n",
       "        </tr>\n",
       "        <tr>\n",
       "            <td>2022-01-02 06:00:00</td> <td>2022-01-02 14:00:00</td> <td>48     </td> <td>1.64113e+09</td> <td>2.58333   </td> <td>0.18  </td> <td>2              </td> <td>-999   </td> <td>2               </td> <td>0.0203</td> <td>nan            </td> <td>-999        </td> <td>-999                 </td>\n",
       "        </tr>\n",
       "        <tr>\n",
       "            <td>2022-01-02 07:00:00</td> <td>2022-01-02 15:00:00</td> <td>48     </td> <td>1.64114e+09</td> <td>2.625     </td> <td>0.19  </td> <td>2              </td> <td>-999   </td> <td>2               </td> <td>0.0208</td> <td>nan            </td> <td>-999        </td> <td>-999                 </td>\n",
       "        </tr>\n",
       "        <tr>\n",
       "            <td>2022-01-02 08:00:00</td> <td>2022-01-02 16:00:00</td> <td>48     </td> <td>1.64114e+09</td> <td>2.66667   </td> <td>0.21  </td> <td>2              </td> <td>-999   </td> <td>2               </td> <td>0.0202</td> <td>nan            </td> <td>-999        </td> <td>-999                 </td>\n",
       "        </tr>\n",
       "        <tr>\n",
       "            <td>2022-01-02 09:00:00</td> <td>2022-01-02 17:00:00</td> <td>48     </td> <td>1.64114e+09</td> <td>2.70833   </td> <td>0.2   </td> <td>2              </td> <td>-999   </td> <td>2               </td> <td>0.0223</td> <td>nan            </td> <td>-999        </td> <td>-999                 </td>\n",
       "        </tr>\n",
       "    </tbody>\n",
       "</table>\n",
       "<p>... (7730 rows omitted)</p>"
      ],
      "text/plain": [
       "local_timestamp     | datetime            | node_id | epoch       | julian_day | co_ppm | co_ppm_QC_level | co2_ppm | co2_ppm_QC_level | o3_ppm | o3_ppm_QC_level | PM_2.5_ug/m3 | PM_2.5_ug/m3_QC_level\n",
       "2022-01-01 23:00:00 | 2022-01-02 07:00:00 | 48      | 1.64111e+09 | 2.29167    | 0.24   | 2               | -999    | 2                | 0.019  | nan             | -999         | -999\n",
       "2022-01-02 01:00:00 | 2022-01-02 09:00:00 | 48      | 1.64111e+09 | 2.375      | 0.21   | 2               | -999    | 2                | 0.0201 | nan             | -999         | -999\n",
       "2022-01-02 02:00:00 | 2022-01-02 10:00:00 | 48      | 1.64112e+09 | 2.41667    | 0.19   | 2               | -999    | 2                | 0.0184 | nan             | -999         | -999\n",
       "2022-01-02 03:00:00 | 2022-01-02 11:00:00 | 48      | 1.64112e+09 | 2.45833    | 0.18   | 2               | -999    | 2                | 0.0198 | nan             | -999         | -999\n",
       "2022-01-02 04:00:00 | 2022-01-02 12:00:00 | 48      | 1.64112e+09 | 2.5        | 0.17   | 2               | -999    | 2                | 0.0185 | nan             | -999         | -999\n",
       "2022-01-02 05:00:00 | 2022-01-02 13:00:00 | 48      | 1.64113e+09 | 2.54167    | 0.17   | 2               | -999    | 2                | 0.0207 | nan             | -999         | -999\n",
       "2022-01-02 06:00:00 | 2022-01-02 14:00:00 | 48      | 1.64113e+09 | 2.58333    | 0.18   | 2               | -999    | 2                | 0.0203 | nan             | -999         | -999\n",
       "2022-01-02 07:00:00 | 2022-01-02 15:00:00 | 48      | 1.64114e+09 | 2.625      | 0.19   | 2               | -999    | 2                | 0.0208 | nan             | -999         | -999\n",
       "2022-01-02 08:00:00 | 2022-01-02 16:00:00 | 48      | 1.64114e+09 | 2.66667    | 0.21   | 2               | -999    | 2                | 0.0202 | nan             | -999         | -999\n",
       "2022-01-02 09:00:00 | 2022-01-02 17:00:00 | 48      | 1.64114e+09 | 2.70833    | 0.2    | 2               | -999    | 2                | 0.0223 | nan             | -999         | -999\n",
       "... (7730 rows omitted)"
      ]
     },
     "execution_count": 4,
     "metadata": {},
     "output_type": "execute_result"
    }
   ],
   "source": [
    "emission_levels = Table.read_table('data.csv')\n",
    "emission_levels"
   ]
  },
  {
   "cell_type": "markdown",
   "id": "74e421a1",
   "metadata": {},
   "source": [
    "## Let's build our EDA Toolkit!\n",
    "\n",
    "The next steps after reading our data is to use methods to understand the structure of our data. "
   ]
  },
  {
   "cell_type": "code",
   "execution_count": 5,
   "id": "2f149d0d",
   "metadata": {},
   "outputs": [
    {
     "data": {
      "text/plain": [
       "7740"
      ]
     },
     "execution_count": 5,
     "metadata": {},
     "output_type": "execute_result"
    }
   ],
   "source": [
    "number_rows = emission_levels.num_rows\n",
    "number_rows"
   ]
  },
  {
   "cell_type": "code",
   "execution_count": 6,
   "id": "e38f0434",
   "metadata": {},
   "outputs": [
    {
     "data": {
      "text/plain": [
       "13"
      ]
     },
     "execution_count": 6,
     "metadata": {},
     "output_type": "execute_result"
    }
   ],
   "source": [
    "number_columns = emission_levels.num_columns\n",
    "number_columns"
   ]
  },
  {
   "cell_type": "markdown",
   "id": "52faaf63",
   "metadata": {},
   "source": [
    "#### We can also modify our dataframe by dropping, adding, and selecting specific columns to suite our needs."
   ]
  },
  {
   "cell_type": "code",
   "execution_count": 7,
   "id": "612e59ed",
   "metadata": {},
   "outputs": [
    {
     "data": {
      "text/html": [
       "<table border=\"1\" class=\"dataframe\">\n",
       "    <thead>\n",
       "        <tr>\n",
       "            <th>local_timestamp</th> <th>node_id</th> <th>epoch</th> <th>julian_day</th> <th>co_ppm</th> <th>co_ppm_QC_level</th> <th>co2_ppm</th> <th>co2_ppm_QC_level</th> <th>o3_ppm</th> <th>o3_ppm_QC_level</th> <th>PM_2.5_ug/m3</th> <th>PM_2.5_ug/m3_QC_level</th>\n",
       "        </tr>\n",
       "    </thead>\n",
       "    <tbody>\n",
       "        <tr>\n",
       "            <td>2022-01-01 23:00:00</td> <td>48     </td> <td>1.64111e+09</td> <td>2.29167   </td> <td>0.24  </td> <td>2              </td> <td>-999   </td> <td>2               </td> <td>0.019 </td> <td>nan            </td> <td>-999        </td> <td>-999                 </td>\n",
       "        </tr>\n",
       "        <tr>\n",
       "            <td>2022-01-02 01:00:00</td> <td>48     </td> <td>1.64111e+09</td> <td>2.375     </td> <td>0.21  </td> <td>2              </td> <td>-999   </td> <td>2               </td> <td>0.0201</td> <td>nan            </td> <td>-999        </td> <td>-999                 </td>\n",
       "        </tr>\n",
       "        <tr>\n",
       "            <td>2022-01-02 02:00:00</td> <td>48     </td> <td>1.64112e+09</td> <td>2.41667   </td> <td>0.19  </td> <td>2              </td> <td>-999   </td> <td>2               </td> <td>0.0184</td> <td>nan            </td> <td>-999        </td> <td>-999                 </td>\n",
       "        </tr>\n",
       "        <tr>\n",
       "            <td>2022-01-02 03:00:00</td> <td>48     </td> <td>1.64112e+09</td> <td>2.45833   </td> <td>0.18  </td> <td>2              </td> <td>-999   </td> <td>2               </td> <td>0.0198</td> <td>nan            </td> <td>-999        </td> <td>-999                 </td>\n",
       "        </tr>\n",
       "        <tr>\n",
       "            <td>2022-01-02 04:00:00</td> <td>48     </td> <td>1.64112e+09</td> <td>2.5       </td> <td>0.17  </td> <td>2              </td> <td>-999   </td> <td>2               </td> <td>0.0185</td> <td>nan            </td> <td>-999        </td> <td>-999                 </td>\n",
       "        </tr>\n",
       "        <tr>\n",
       "            <td>2022-01-02 05:00:00</td> <td>48     </td> <td>1.64113e+09</td> <td>2.54167   </td> <td>0.17  </td> <td>2              </td> <td>-999   </td> <td>2               </td> <td>0.0207</td> <td>nan            </td> <td>-999        </td> <td>-999                 </td>\n",
       "        </tr>\n",
       "        <tr>\n",
       "            <td>2022-01-02 06:00:00</td> <td>48     </td> <td>1.64113e+09</td> <td>2.58333   </td> <td>0.18  </td> <td>2              </td> <td>-999   </td> <td>2               </td> <td>0.0203</td> <td>nan            </td> <td>-999        </td> <td>-999                 </td>\n",
       "        </tr>\n",
       "        <tr>\n",
       "            <td>2022-01-02 07:00:00</td> <td>48     </td> <td>1.64114e+09</td> <td>2.625     </td> <td>0.19  </td> <td>2              </td> <td>-999   </td> <td>2               </td> <td>0.0208</td> <td>nan            </td> <td>-999        </td> <td>-999                 </td>\n",
       "        </tr>\n",
       "        <tr>\n",
       "            <td>2022-01-02 08:00:00</td> <td>48     </td> <td>1.64114e+09</td> <td>2.66667   </td> <td>0.21  </td> <td>2              </td> <td>-999   </td> <td>2               </td> <td>0.0202</td> <td>nan            </td> <td>-999        </td> <td>-999                 </td>\n",
       "        </tr>\n",
       "        <tr>\n",
       "            <td>2022-01-02 09:00:00</td> <td>48     </td> <td>1.64114e+09</td> <td>2.70833   </td> <td>0.2   </td> <td>2              </td> <td>-999   </td> <td>2               </td> <td>0.0223</td> <td>nan            </td> <td>-999        </td> <td>-999                 </td>\n",
       "        </tr>\n",
       "    </tbody>\n",
       "</table>\n",
       "<p>... (7730 rows omitted)</p>"
      ],
      "text/plain": [
       "local_timestamp     | node_id | epoch       | julian_day | co_ppm | co_ppm_QC_level | co2_ppm | co2_ppm_QC_level | o3_ppm | o3_ppm_QC_level | PM_2.5_ug/m3 | PM_2.5_ug/m3_QC_level\n",
       "2022-01-01 23:00:00 | 48      | 1.64111e+09 | 2.29167    | 0.24   | 2               | -999    | 2                | 0.019  | nan             | -999         | -999\n",
       "2022-01-02 01:00:00 | 48      | 1.64111e+09 | 2.375      | 0.21   | 2               | -999    | 2                | 0.0201 | nan             | -999         | -999\n",
       "2022-01-02 02:00:00 | 48      | 1.64112e+09 | 2.41667    | 0.19   | 2               | -999    | 2                | 0.0184 | nan             | -999         | -999\n",
       "2022-01-02 03:00:00 | 48      | 1.64112e+09 | 2.45833    | 0.18   | 2               | -999    | 2                | 0.0198 | nan             | -999         | -999\n",
       "2022-01-02 04:00:00 | 48      | 1.64112e+09 | 2.5        | 0.17   | 2               | -999    | 2                | 0.0185 | nan             | -999         | -999\n",
       "2022-01-02 05:00:00 | 48      | 1.64113e+09 | 2.54167    | 0.17   | 2               | -999    | 2                | 0.0207 | nan             | -999         | -999\n",
       "2022-01-02 06:00:00 | 48      | 1.64113e+09 | 2.58333    | 0.18   | 2               | -999    | 2                | 0.0203 | nan             | -999         | -999\n",
       "2022-01-02 07:00:00 | 48      | 1.64114e+09 | 2.625      | 0.19   | 2               | -999    | 2                | 0.0208 | nan             | -999         | -999\n",
       "2022-01-02 08:00:00 | 48      | 1.64114e+09 | 2.66667    | 0.21   | 2               | -999    | 2                | 0.0202 | nan             | -999         | -999\n",
       "2022-01-02 09:00:00 | 48      | 1.64114e+09 | 2.70833    | 0.2    | 2               | -999    | 2                | 0.0223 | nan             | -999         | -999\n",
       "... (7730 rows omitted)"
      ]
     },
     "execution_count": 7,
     "metadata": {},
     "output_type": "execute_result"
    }
   ],
   "source": [
    "#We use the function '.drop()' to return a copy of the original table without the specified columns \n",
    "emission_levels.drop('datetime')\n"
   ]
  },
  {
   "cell_type": "code",
   "execution_count": 8,
   "id": "deaf4457",
   "metadata": {},
   "outputs": [
    {
     "data": {
      "text/html": [
       "<table border=\"1\" class=\"dataframe\">\n",
       "    <thead>\n",
       "        <tr>\n",
       "            <th>local_timestamp</th> <th>datetime</th> <th>node_id</th> <th>epoch</th> <th>julian_day</th> <th>co_ppm</th> <th>co_ppm_QC_level</th> <th>CO2</th> <th>co2_ppm_QC_level</th> <th>o3_ppm</th> <th>o3_ppm_QC_level</th> <th>PM_2.5_ug/m3</th> <th>PM_2.5_ug/m3_QC_level</th>\n",
       "        </tr>\n",
       "    </thead>\n",
       "    <tbody>\n",
       "        <tr>\n",
       "            <td>2022-01-01 23:00:00</td> <td>2022-01-02 07:00:00</td> <td>48     </td> <td>1.64111e+09</td> <td>2.29167   </td> <td>0.24  </td> <td>2              </td> <td>-999</td> <td>2               </td> <td>0.019 </td> <td>nan            </td> <td>-999        </td> <td>-999                 </td>\n",
       "        </tr>\n",
       "        <tr>\n",
       "            <td>2022-01-02 01:00:00</td> <td>2022-01-02 09:00:00</td> <td>48     </td> <td>1.64111e+09</td> <td>2.375     </td> <td>0.21  </td> <td>2              </td> <td>-999</td> <td>2               </td> <td>0.0201</td> <td>nan            </td> <td>-999        </td> <td>-999                 </td>\n",
       "        </tr>\n",
       "        <tr>\n",
       "            <td>2022-01-02 02:00:00</td> <td>2022-01-02 10:00:00</td> <td>48     </td> <td>1.64112e+09</td> <td>2.41667   </td> <td>0.19  </td> <td>2              </td> <td>-999</td> <td>2               </td> <td>0.0184</td> <td>nan            </td> <td>-999        </td> <td>-999                 </td>\n",
       "        </tr>\n",
       "        <tr>\n",
       "            <td>2022-01-02 03:00:00</td> <td>2022-01-02 11:00:00</td> <td>48     </td> <td>1.64112e+09</td> <td>2.45833   </td> <td>0.18  </td> <td>2              </td> <td>-999</td> <td>2               </td> <td>0.0198</td> <td>nan            </td> <td>-999        </td> <td>-999                 </td>\n",
       "        </tr>\n",
       "        <tr>\n",
       "            <td>2022-01-02 04:00:00</td> <td>2022-01-02 12:00:00</td> <td>48     </td> <td>1.64112e+09</td> <td>2.5       </td> <td>0.17  </td> <td>2              </td> <td>-999</td> <td>2               </td> <td>0.0185</td> <td>nan            </td> <td>-999        </td> <td>-999                 </td>\n",
       "        </tr>\n",
       "        <tr>\n",
       "            <td>2022-01-02 05:00:00</td> <td>2022-01-02 13:00:00</td> <td>48     </td> <td>1.64113e+09</td> <td>2.54167   </td> <td>0.17  </td> <td>2              </td> <td>-999</td> <td>2               </td> <td>0.0207</td> <td>nan            </td> <td>-999        </td> <td>-999                 </td>\n",
       "        </tr>\n",
       "        <tr>\n",
       "            <td>2022-01-02 06:00:00</td> <td>2022-01-02 14:00:00</td> <td>48     </td> <td>1.64113e+09</td> <td>2.58333   </td> <td>0.18  </td> <td>2              </td> <td>-999</td> <td>2               </td> <td>0.0203</td> <td>nan            </td> <td>-999        </td> <td>-999                 </td>\n",
       "        </tr>\n",
       "        <tr>\n",
       "            <td>2022-01-02 07:00:00</td> <td>2022-01-02 15:00:00</td> <td>48     </td> <td>1.64114e+09</td> <td>2.625     </td> <td>0.19  </td> <td>2              </td> <td>-999</td> <td>2               </td> <td>0.0208</td> <td>nan            </td> <td>-999        </td> <td>-999                 </td>\n",
       "        </tr>\n",
       "        <tr>\n",
       "            <td>2022-01-02 08:00:00</td> <td>2022-01-02 16:00:00</td> <td>48     </td> <td>1.64114e+09</td> <td>2.66667   </td> <td>0.21  </td> <td>2              </td> <td>-999</td> <td>2               </td> <td>0.0202</td> <td>nan            </td> <td>-999        </td> <td>-999                 </td>\n",
       "        </tr>\n",
       "        <tr>\n",
       "            <td>2022-01-02 09:00:00</td> <td>2022-01-02 17:00:00</td> <td>48     </td> <td>1.64114e+09</td> <td>2.70833   </td> <td>0.2   </td> <td>2              </td> <td>-999</td> <td>2               </td> <td>0.0223</td> <td>nan            </td> <td>-999        </td> <td>-999                 </td>\n",
       "        </tr>\n",
       "    </tbody>\n",
       "</table>\n",
       "<p>... (7730 rows omitted)</p>"
      ],
      "text/plain": [
       "local_timestamp     | datetime            | node_id | epoch       | julian_day | co_ppm | co_ppm_QC_level | CO2  | co2_ppm_QC_level | o3_ppm | o3_ppm_QC_level | PM_2.5_ug/m3 | PM_2.5_ug/m3_QC_level\n",
       "2022-01-01 23:00:00 | 2022-01-02 07:00:00 | 48      | 1.64111e+09 | 2.29167    | 0.24   | 2               | -999 | 2                | 0.019  | nan             | -999         | -999\n",
       "2022-01-02 01:00:00 | 2022-01-02 09:00:00 | 48      | 1.64111e+09 | 2.375      | 0.21   | 2               | -999 | 2                | 0.0201 | nan             | -999         | -999\n",
       "2022-01-02 02:00:00 | 2022-01-02 10:00:00 | 48      | 1.64112e+09 | 2.41667    | 0.19   | 2               | -999 | 2                | 0.0184 | nan             | -999         | -999\n",
       "2022-01-02 03:00:00 | 2022-01-02 11:00:00 | 48      | 1.64112e+09 | 2.45833    | 0.18   | 2               | -999 | 2                | 0.0198 | nan             | -999         | -999\n",
       "2022-01-02 04:00:00 | 2022-01-02 12:00:00 | 48      | 1.64112e+09 | 2.5        | 0.17   | 2               | -999 | 2                | 0.0185 | nan             | -999         | -999\n",
       "2022-01-02 05:00:00 | 2022-01-02 13:00:00 | 48      | 1.64113e+09 | 2.54167    | 0.17   | 2               | -999 | 2                | 0.0207 | nan             | -999         | -999\n",
       "2022-01-02 06:00:00 | 2022-01-02 14:00:00 | 48      | 1.64113e+09 | 2.58333    | 0.18   | 2               | -999 | 2                | 0.0203 | nan             | -999         | -999\n",
       "2022-01-02 07:00:00 | 2022-01-02 15:00:00 | 48      | 1.64114e+09 | 2.625      | 0.19   | 2               | -999 | 2                | 0.0208 | nan             | -999         | -999\n",
       "2022-01-02 08:00:00 | 2022-01-02 16:00:00 | 48      | 1.64114e+09 | 2.66667    | 0.21   | 2               | -999 | 2                | 0.0202 | nan             | -999         | -999\n",
       "2022-01-02 09:00:00 | 2022-01-02 17:00:00 | 48      | 1.64114e+09 | 2.70833    | 0.2    | 2               | -999 | 2                | 0.0223 | nan             | -999         | -999\n",
       "... (7730 rows omitted)"
      ]
     },
     "execution_count": 8,
     "metadata": {},
     "output_type": "execute_result"
    }
   ],
   "source": [
    "#We want to use the function '.relabeled()' to rename columns \n",
    "emission_levels.relabeled('co2_ppm', 'CO2')"
   ]
  },
  {
   "cell_type": "code",
   "execution_count": 9,
   "id": "3e98493a",
   "metadata": {},
   "outputs": [
    {
     "data": {
      "text/html": [
       "<table border=\"1\" class=\"dataframe\">\n",
       "    <thead>\n",
       "        <tr>\n",
       "            <th>local_timestamp</th> <th>node_id</th>\n",
       "        </tr>\n",
       "    </thead>\n",
       "    <tbody>\n",
       "        <tr>\n",
       "            <td>2022-01-01 23:00:00</td> <td>48     </td>\n",
       "        </tr>\n",
       "        <tr>\n",
       "            <td>2022-01-02 01:00:00</td> <td>48     </td>\n",
       "        </tr>\n",
       "        <tr>\n",
       "            <td>2022-01-02 02:00:00</td> <td>48     </td>\n",
       "        </tr>\n",
       "        <tr>\n",
       "            <td>2022-01-02 03:00:00</td> <td>48     </td>\n",
       "        </tr>\n",
       "        <tr>\n",
       "            <td>2022-01-02 04:00:00</td> <td>48     </td>\n",
       "        </tr>\n",
       "        <tr>\n",
       "            <td>2022-01-02 05:00:00</td> <td>48     </td>\n",
       "        </tr>\n",
       "        <tr>\n",
       "            <td>2022-01-02 06:00:00</td> <td>48     </td>\n",
       "        </tr>\n",
       "        <tr>\n",
       "            <td>2022-01-02 07:00:00</td> <td>48     </td>\n",
       "        </tr>\n",
       "        <tr>\n",
       "            <td>2022-01-02 08:00:00</td> <td>48     </td>\n",
       "        </tr>\n",
       "        <tr>\n",
       "            <td>2022-01-02 09:00:00</td> <td>48     </td>\n",
       "        </tr>\n",
       "    </tbody>\n",
       "</table>\n",
       "<p>... (7730 rows omitted)</p>"
      ],
      "text/plain": [
       "local_timestamp     | node_id\n",
       "2022-01-01 23:00:00 | 48\n",
       "2022-01-02 01:00:00 | 48\n",
       "2022-01-02 02:00:00 | 48\n",
       "2022-01-02 03:00:00 | 48\n",
       "2022-01-02 04:00:00 | 48\n",
       "2022-01-02 05:00:00 | 48\n",
       "2022-01-02 06:00:00 | 48\n",
       "2022-01-02 07:00:00 | 48\n",
       "2022-01-02 08:00:00 | 48\n",
       "2022-01-02 09:00:00 | 48\n",
       "... (7730 rows omitted)"
      ]
     },
     "execution_count": 9,
     "metadata": {},
     "output_type": "execute_result"
    }
   ],
   "source": [
    "#We use the function '.select()' to select the columns we want to show \n",
    "emission_levels.select('local_timestamp', 'node_id')\n"
   ]
  },
  {
   "cell_type": "code",
   "execution_count": 10,
   "id": "ff2e417e",
   "metadata": {},
   "outputs": [
    {
     "data": {
      "text/html": [
       "<table border=\"1\" class=\"dataframe\">\n",
       "    <thead>\n",
       "        <tr>\n",
       "            <th>local_timestamp</th> <th>datetime</th> <th>node_id</th> <th>epoch</th> <th>julian_day</th> <th>co_ppm</th> <th>co_ppm_QC_level</th> <th>co2_ppm</th> <th>co2_ppm_QC_level</th> <th>o3_ppm</th> <th>o3_ppm_QC_level</th> <th>PM_2.5_ug/m3</th> <th>PM_2.5_ug/m3_QC_level</th>\n",
       "        </tr>\n",
       "    </thead>\n",
       "    <tbody>\n",
       "        <tr>\n",
       "            <td>2022-12-26 22:00:00</td> <td>2022-12-27 06:00:00</td> <td>48     </td> <td>1.67212e+09</td> <td>361.25    </td> <td>0.24  </td> <td>2              </td> <td>512.1  </td> <td>2               </td> <td>0.0014</td> <td>2              </td> <td>29          </td> <td>2                    </td>\n",
       "        </tr>\n",
       "        <tr>\n",
       "            <td>2022-11-16 01:00:00</td> <td>2022-11-16 09:00:00</td> <td>48     </td> <td>1.66859e+09</td> <td>320.375   </td> <td>0.32  </td> <td>2              </td> <td>507    </td> <td>2               </td> <td>-999  </td> <td>2              </td> <td>13.6        </td> <td>2                    </td>\n",
       "        </tr>\n",
       "        <tr>\n",
       "            <td>2022-12-26 21:00:00</td> <td>2022-12-27 05:00:00</td> <td>48     </td> <td>1.67212e+09</td> <td>361.208   </td> <td>0.23  </td> <td>2              </td> <td>505.1  </td> <td>2               </td> <td>0.0022</td> <td>2              </td> <td>30.6        </td> <td>2                    </td>\n",
       "        </tr>\n",
       "        <tr>\n",
       "            <td>2022-12-26 20:00:00</td> <td>2022-12-27 04:00:00</td> <td>48     </td> <td>1.67211e+09</td> <td>361.167   </td> <td>0.22  </td> <td>2              </td> <td>502.4  </td> <td>2               </td> <td>0.0028</td> <td>2              </td> <td>29.9        </td> <td>2                    </td>\n",
       "        </tr>\n",
       "        <tr>\n",
       "            <td>2022-12-21 11:00:00</td> <td>2022-12-21 19:00:00</td> <td>48     </td> <td>1.67165e+09</td> <td>355.792   </td> <td>0.19  </td> <td>2              </td> <td>501.1  </td> <td>2               </td> <td>0.0124</td> <td>2              </td> <td>43.7        </td> <td>2                    </td>\n",
       "        </tr>\n",
       "        <tr>\n",
       "            <td>2022-11-27 02:00:00</td> <td>2022-11-27 10:00:00</td> <td>48     </td> <td>1.66954e+09</td> <td>331.417   </td> <td>0.27  </td> <td>2              </td> <td>500.8  </td> <td>2               </td> <td>0.0042</td> <td>2              </td> <td>25.9        </td> <td>2                    </td>\n",
       "        </tr>\n",
       "        <tr>\n",
       "            <td>2022-11-16 02:00:00</td> <td>2022-11-16 10:00:00</td> <td>48     </td> <td>1.66859e+09</td> <td>320.417   </td> <td>0.29  </td> <td>2              </td> <td>499.8  </td> <td>2               </td> <td>-999  </td> <td>2              </td> <td>12.5        </td> <td>2                    </td>\n",
       "        </tr>\n",
       "        <tr>\n",
       "            <td>2022-11-22 22:00:00</td> <td>2022-11-23 06:00:00</td> <td>48     </td> <td>1.66918e+09</td> <td>327.25    </td> <td>0.32  </td> <td>2              </td> <td>499.3  </td> <td>2               </td> <td>-999  </td> <td>2              </td> <td>18.1        </td> <td>2                    </td>\n",
       "        </tr>\n",
       "        <tr>\n",
       "            <td>2022-11-27 01:00:00</td> <td>2022-11-27 09:00:00</td> <td>48     </td> <td>1.66954e+09</td> <td>331.375   </td> <td>0.28  </td> <td>2              </td> <td>496.7  </td> <td>2               </td> <td>0.0057</td> <td>2              </td> <td>30          </td> <td>2                    </td>\n",
       "        </tr>\n",
       "        <tr>\n",
       "            <td>2022-12-21 10:00:00</td> <td>2022-12-21 18:00:00</td> <td>48     </td> <td>1.67165e+09</td> <td>355.75    </td> <td>0.24  </td> <td>2              </td> <td>496.5  </td> <td>2               </td> <td>0.0072</td> <td>2              </td> <td>46          </td> <td>2                    </td>\n",
       "        </tr>\n",
       "    </tbody>\n",
       "</table>\n",
       "<p>... (7730 rows omitted)</p>"
      ],
      "text/plain": [
       "local_timestamp     | datetime            | node_id | epoch       | julian_day | co_ppm | co_ppm_QC_level | co2_ppm | co2_ppm_QC_level | o3_ppm | o3_ppm_QC_level | PM_2.5_ug/m3 | PM_2.5_ug/m3_QC_level\n",
       "2022-12-26 22:00:00 | 2022-12-27 06:00:00 | 48      | 1.67212e+09 | 361.25     | 0.24   | 2               | 512.1   | 2                | 0.0014 | 2               | 29           | 2\n",
       "2022-11-16 01:00:00 | 2022-11-16 09:00:00 | 48      | 1.66859e+09 | 320.375    | 0.32   | 2               | 507     | 2                | -999   | 2               | 13.6         | 2\n",
       "2022-12-26 21:00:00 | 2022-12-27 05:00:00 | 48      | 1.67212e+09 | 361.208    | 0.23   | 2               | 505.1   | 2                | 0.0022 | 2               | 30.6         | 2\n",
       "2022-12-26 20:00:00 | 2022-12-27 04:00:00 | 48      | 1.67211e+09 | 361.167    | 0.22   | 2               | 502.4   | 2                | 0.0028 | 2               | 29.9         | 2\n",
       "2022-12-21 11:00:00 | 2022-12-21 19:00:00 | 48      | 1.67165e+09 | 355.792    | 0.19   | 2               | 501.1   | 2                | 0.0124 | 2               | 43.7         | 2\n",
       "2022-11-27 02:00:00 | 2022-11-27 10:00:00 | 48      | 1.66954e+09 | 331.417    | 0.27   | 2               | 500.8   | 2                | 0.0042 | 2               | 25.9         | 2\n",
       "2022-11-16 02:00:00 | 2022-11-16 10:00:00 | 48      | 1.66859e+09 | 320.417    | 0.29   | 2               | 499.8   | 2                | -999   | 2               | 12.5         | 2\n",
       "2022-11-22 22:00:00 | 2022-11-23 06:00:00 | 48      | 1.66918e+09 | 327.25     | 0.32   | 2               | 499.3   | 2                | -999   | 2               | 18.1         | 2\n",
       "2022-11-27 01:00:00 | 2022-11-27 09:00:00 | 48      | 1.66954e+09 | 331.375    | 0.28   | 2               | 496.7   | 2                | 0.0057 | 2               | 30           | 2\n",
       "2022-12-21 10:00:00 | 2022-12-21 18:00:00 | 48      | 1.67165e+09 | 355.75     | 0.24   | 2               | 496.5   | 2                | 0.0072 | 2               | 46           | 2\n",
       "... (7730 rows omitted)"
      ]
     },
     "execution_count": 10,
     "metadata": {},
     "output_type": "execute_result"
    }
   ],
   "source": [
    "#We can use the function '.sort()' to sort our dataframe by a column and in a descending order or not\n",
    "emission_levels.sort('co2_ppm', descending = True)"
   ]
  },
  {
   "cell_type": "markdown",
   "id": "c9d37dd6",
   "metadata": {},
   "source": [
    "### Try it yourself! \n",
    "Given the functions in your toolkit, try to manuliate the `co_ppm` variable based on the prompts below. <br>\n",
    "\n",
    "1. Sort your dataframe by `co_ppm` in a descending order and give it a new table name called `co_ppm_levels`.\n",
    "2. Use relabeled to change the name of the local_timestamp column\n",
    "3. Select specified columns you will need to analyze `co_ppm`\n",
    "\n",
    "Your resultant table should look like this: \n",
    "<img src=\"table.png\" align=\"center\"/>"
   ]
  },
  {
   "cell_type": "code",
   "execution_count": 11,
   "id": "ee734c1f",
   "metadata": {},
   "outputs": [
    {
     "data": {
      "text/plain": [
       "Ellipsis"
      ]
     },
     "execution_count": 11,
     "metadata": {},
     "output_type": "execute_result"
    }
   ],
   "source": [
    "#sort the data\n",
    "co_ppm_levels = ...\n",
    "\n",
    "\n",
    "#relabel \n",
    "co_ppm_levels = ...\n",
    "\n",
    "\n",
    "#select the required columns\n",
    "..."
   ]
  },
  {
   "cell_type": "markdown",
   "id": "5c7143f8",
   "metadata": {},
   "source": [
    "### Further analysis using the numpy library\n",
    "Now that you have table that contains the specific columns you want to work with, we can use inbulit functions to understand the features better. "
   ]
  },
  {
   "cell_type": "markdown",
   "id": "e3c73864",
   "metadata": {},
   "source": [
    "**Null Values**\n",
    "A table often contains 'null' values which are missing data points. They are often denoted as 'NaN', 'nan' or '-999'.\n",
    "This table uses the '-999' notation, let's take a look at how to remove that from our data."
   ]
  },
  {
   "cell_type": "code",
   "execution_count": 12,
   "id": "d8fca06e",
   "metadata": {},
   "outputs": [],
   "source": [
    "emission_levels = emission_levels.where('co2_ppm',lambda x: x != -999)"
   ]
  },
  {
   "cell_type": "markdown",
   "id": "4dcb421d",
   "metadata": {},
   "source": [
    "Similar to the datascience library, the numpy library provides a range of functions. NumPy is a Python library for numerical computing that provides powerful data structures and functions for working with multi-dimensional arrays and matrices. It is widely used in scientific computing, data analysis, and machine learning applications. NumPy provides efficient implementation of mathematical operations and enables vectorized computations that can significantly speed up data processing. "
   ]
  },
  {
   "cell_type": "code",
   "execution_count": 13,
   "id": "632366b7",
   "metadata": {},
   "outputs": [],
   "source": [
    "#Importing numpy \n",
    "import numpy as np"
   ]
  },
  {
   "cell_type": "markdown",
   "id": "74eb0cb2",
   "metadata": {},
   "source": [
    "We could use 'mean' function from the pandas package to take the average of a series('column'). We write the name of our table and between squared parenthesis the name of the column."
   ]
  },
  {
   "cell_type": "code",
   "execution_count": 14,
   "id": "25db3197",
   "metadata": {},
   "outputs": [
    {
     "data": {
      "text/plain": [
       "431.32958462842606"
      ]
     },
     "execution_count": 14,
     "metadata": {},
     "output_type": "execute_result"
    }
   ],
   "source": [
    "np.mean(emission_levels['co2_ppm'])"
   ]
  },
  {
   "cell_type": "markdown",
   "id": "868cada9",
   "metadata": {},
   "source": [
    "We could use 'min' function to know the smallest variable of a series('column'). We write the name of our table and between squared parenthesis the name of the column."
   ]
  },
  {
   "cell_type": "code",
   "execution_count": 15,
   "id": "f7662c7d",
   "metadata": {},
   "outputs": [
    {
     "data": {
      "text/plain": [
       "404.3"
      ]
     },
     "execution_count": 15,
     "metadata": {},
     "output_type": "execute_result"
    }
   ],
   "source": [
    "min(emission_levels['co2_ppm'])"
   ]
  },
  {
   "cell_type": "markdown",
   "id": "06ee0c40",
   "metadata": {},
   "source": [
    "We could use 'max' function to know the biggest variable of a series('column'). We write the name of our table and between squared parenthesis the name of the column."
   ]
  },
  {
   "cell_type": "code",
   "execution_count": 16,
   "id": "1afdc432",
   "metadata": {},
   "outputs": [
    {
     "data": {
      "text/plain": [
       "512.1"
      ]
     },
     "execution_count": 16,
     "metadata": {},
     "output_type": "execute_result"
    }
   ],
   "source": [
    "max(emission_levels['co2_ppm'])"
   ]
  },
  {
   "cell_type": "markdown",
   "id": "3040f9ca",
   "metadata": {},
   "source": [
    "## Using the Data to understand patterns!"
   ]
  },
  {
   "cell_type": "code",
   "execution_count": 17,
   "id": "e3b9982d",
   "metadata": {},
   "outputs": [],
   "source": [
    "#This is a new modified dataset created to work with the date and time of each node\n",
    "data_vis = Table.read_table('v_data.csv')"
   ]
  },
  {
   "cell_type": "code",
   "execution_count": 18,
   "id": "bb2aba1a",
   "metadata": {},
   "outputs": [
    {
     "data": {
      "text/html": [
       "<table border=\"1\" class=\"dataframe\">\n",
       "    <thead>\n",
       "        <tr>\n",
       "            <th>Unnamed: 0</th> <th>co_ppm</th> <th>co2_ppm</th> <th>date_col</th> <th>time_col</th>\n",
       "        </tr>\n",
       "    </thead>\n",
       "    <tbody>\n",
       "        <tr>\n",
       "            <td>4157      </td> <td>0.21  </td> <td>415    </td> <td>2022-08-05</td> <td>18:00:00</td>\n",
       "        </tr>\n",
       "        <tr>\n",
       "            <td>4158      </td> <td>0.09  </td> <td>412    </td> <td>2022-08-05</td> <td>19:00:00</td>\n",
       "        </tr>\n",
       "        <tr>\n",
       "            <td>4159      </td> <td>0.08  </td> <td>411.2  </td> <td>2022-08-05</td> <td>20:00:00</td>\n",
       "        </tr>\n",
       "        <tr>\n",
       "            <td>4160      </td> <td>0.08  </td> <td>411.1  </td> <td>2022-08-05</td> <td>21:00:00</td>\n",
       "        </tr>\n",
       "        <tr>\n",
       "            <td>4161      </td> <td>0.08  </td> <td>410.4  </td> <td>2022-08-05</td> <td>22:00:00</td>\n",
       "        </tr>\n",
       "        <tr>\n",
       "            <td>4162      </td> <td>0.07  </td> <td>409.6  </td> <td>2022-08-05</td> <td>23:00:00</td>\n",
       "        </tr>\n",
       "        <tr>\n",
       "            <td>4163      </td> <td>0.07  </td> <td>409.9  </td> <td>2022-08-06</td> <td>00:00:00</td>\n",
       "        </tr>\n",
       "        <tr>\n",
       "            <td>4164      </td> <td>0.07  </td> <td>410    </td> <td>2022-08-06</td> <td>01:00:00</td>\n",
       "        </tr>\n",
       "        <tr>\n",
       "            <td>4165      </td> <td>0.06  </td> <td>410.3  </td> <td>2022-08-06</td> <td>02:00:00</td>\n",
       "        </tr>\n",
       "        <tr>\n",
       "            <td>4166      </td> <td>0.08  </td> <td>410.5  </td> <td>2022-08-06</td> <td>03:00:00</td>\n",
       "        </tr>\n",
       "    </tbody>\n",
       "</table>\n",
       "<p>... (3529 rows omitted)</p>"
      ],
      "text/plain": [
       "Unnamed: 0 | co_ppm | co2_ppm | date_col   | time_col\n",
       "4157       | 0.21   | 415     | 2022-08-05 | 18:00:00\n",
       "4158       | 0.09   | 412     | 2022-08-05 | 19:00:00\n",
       "4159       | 0.08   | 411.2   | 2022-08-05 | 20:00:00\n",
       "4160       | 0.08   | 411.1   | 2022-08-05 | 21:00:00\n",
       "4161       | 0.08   | 410.4   | 2022-08-05 | 22:00:00\n",
       "4162       | 0.07   | 409.6   | 2022-08-05 | 23:00:00\n",
       "4163       | 0.07   | 409.9   | 2022-08-06 | 00:00:00\n",
       "4164       | 0.07   | 410     | 2022-08-06 | 01:00:00\n",
       "4165       | 0.06   | 410.3   | 2022-08-06 | 02:00:00\n",
       "4166       | 0.08   | 410.5   | 2022-08-06 | 03:00:00\n",
       "... (3529 rows omitted)"
      ]
     },
     "execution_count": 18,
     "metadata": {},
     "output_type": "execute_result"
    }
   ],
   "source": [
    "#Remove the null values using the method in your toolkit\n",
    "data_vis = data_vis.where('co2_ppm',lambda x: x != -999)\n",
    "data_vis"
   ]
  },
  {
   "cell_type": "markdown",
   "id": "0aba03e3",
   "metadata": {},
   "source": [
    "## Our Question: Is there a difference in emission during the day vs night?"
   ]
  },
  {
   "cell_type": "markdown",
   "id": "c8179f54",
   "metadata": {},
   "source": [
    "Using the group function from the datascience library, we can figure out what the total emissions have been for a given time over the past one year!"
   ]
  },
  {
   "cell_type": "code",
   "execution_count": 19,
   "id": "786d1ef5",
   "metadata": {},
   "outputs": [
    {
     "data": {
      "text/html": [
       "<table border=\"1\" class=\"dataframe\">\n",
       "    <thead>\n",
       "        <tr>\n",
       "            <th>time_col</th> <th>co_ppm sum</th> <th>co2_ppm sum</th>\n",
       "        </tr>\n",
       "    </thead>\n",
       "    <tbody>\n",
       "        <tr>\n",
       "            <td>00:00:00</td> <td>15.6      </td> <td>63261.3    </td>\n",
       "        </tr>\n",
       "        <tr>\n",
       "            <td>01:00:00</td> <td>16.4      </td> <td>63498.8    </td>\n",
       "        </tr>\n",
       "        <tr>\n",
       "            <td>02:00:00</td> <td>17.76     </td> <td>63285.4    </td>\n",
       "        </tr>\n",
       "        <tr>\n",
       "            <td>03:00:00</td> <td>19.37     </td> <td>63472.4    </td>\n",
       "        </tr>\n",
       "        <tr>\n",
       "            <td>04:00:00</td> <td>19.96     </td> <td>63575.9    </td>\n",
       "        </tr>\n",
       "        <tr>\n",
       "            <td>05:00:00</td> <td>19.22     </td> <td>63902      </td>\n",
       "        </tr>\n",
       "        <tr>\n",
       "            <td>06:00:00</td> <td>18.59     </td> <td>63881.8    </td>\n",
       "        </tr>\n",
       "        <tr>\n",
       "            <td>07:00:00</td> <td>18.07     </td> <td>63845.8    </td>\n",
       "        </tr>\n",
       "        <tr>\n",
       "            <td>08:00:00</td> <td>17.24     </td> <td>63315.8    </td>\n",
       "        </tr>\n",
       "        <tr>\n",
       "            <td>09:00:00</td> <td>16.74     </td> <td>62538.9    </td>\n",
       "        </tr>\n",
       "    </tbody>\n",
       "</table>\n",
       "<p>... (14 rows omitted)</p>"
      ],
      "text/plain": [
       "time_col | co_ppm sum | co2_ppm sum\n",
       "00:00:00 | 15.6       | 63261.3\n",
       "01:00:00 | 16.4       | 63498.8\n",
       "02:00:00 | 17.76      | 63285.4\n",
       "03:00:00 | 19.37      | 63472.4\n",
       "04:00:00 | 19.96      | 63575.9\n",
       "05:00:00 | 19.22      | 63902\n",
       "06:00:00 | 18.59      | 63881.8\n",
       "07:00:00 | 18.07      | 63845.8\n",
       "08:00:00 | 17.24      | 63315.8\n",
       "09:00:00 | 16.74      | 62538.9\n",
       "... (14 rows omitted)"
      ]
     },
     "execution_count": 19,
     "metadata": {},
     "output_type": "execute_result"
    }
   ],
   "source": [
    "grouped_data = data_vis.group('time_col', sum)\n",
    "grouped_data = grouped_data.drop('Unnamed: 0 sum')\n",
    "grouped_data = grouped_data.drop('date_col sum')\n",
    "grouped_data "
   ]
  },
  {
   "cell_type": "code",
   "execution_count": 23,
   "id": "c53e80bc",
   "metadata": {},
   "outputs": [],
   "source": [
    "import matplotlib.pyplot as plt\n",
    "\n",
    "#This line results in the co_ppm and co2_ppm being plotted against time. \n",
    "grouped_data.plot('time_col', ['co_ppm sum', 'co2_ppm sum'])\n",
    "\n",
    "# set axis labels\n",
    "plt.xlabel('Time')\n",
    "plt.ylabel('Concentration (ppm)')\n",
    "\n",
    "# show the plot\n",
    "plt.show()"
   ]
  },
  {
   "cell_type": "markdown",
   "id": "35a567e3",
   "metadata": {},
   "source": [
    "**Use the space below to draw patterns from the plot above. What is trends can you infer from the data? When are the emissions usually the highest?**"
   ]
  },
  {
   "cell_type": "markdown",
   "id": "ed42e7bc",
   "metadata": {},
   "source": [
    "## Try it yourself! \n",
    "\n",
    "Now using the `data_vis` table, try grouping the data according to the dates. Answer the following question: <br>\n",
    "1. What day has the highest co2_ppm and co_ppm emission based on the table?\n",
    "2. Do the summer months have higher emissions than the winter months or visa versa?"
   ]
  },
  {
   "cell_type": "code",
   "execution_count": 24,
   "id": "13b4f28f",
   "metadata": {},
   "outputs": [
    {
     "data": {
      "text/html": [
       "<table border=\"1\" class=\"dataframe\">\n",
       "    <thead>\n",
       "        <tr>\n",
       "            <th>Unnamed: 0</th> <th>co_ppm</th> <th>co2_ppm</th> <th>date_col</th> <th>time_col</th>\n",
       "        </tr>\n",
       "    </thead>\n",
       "    <tbody>\n",
       "        <tr>\n",
       "            <td>4157      </td> <td>0.21  </td> <td>415    </td> <td>2022-08-05</td> <td>18:00:00</td>\n",
       "        </tr>\n",
       "        <tr>\n",
       "            <td>4158      </td> <td>0.09  </td> <td>412    </td> <td>2022-08-05</td> <td>19:00:00</td>\n",
       "        </tr>\n",
       "        <tr>\n",
       "            <td>4159      </td> <td>0.08  </td> <td>411.2  </td> <td>2022-08-05</td> <td>20:00:00</td>\n",
       "        </tr>\n",
       "        <tr>\n",
       "            <td>4160      </td> <td>0.08  </td> <td>411.1  </td> <td>2022-08-05</td> <td>21:00:00</td>\n",
       "        </tr>\n",
       "        <tr>\n",
       "            <td>4161      </td> <td>0.08  </td> <td>410.4  </td> <td>2022-08-05</td> <td>22:00:00</td>\n",
       "        </tr>\n",
       "        <tr>\n",
       "            <td>4162      </td> <td>0.07  </td> <td>409.6  </td> <td>2022-08-05</td> <td>23:00:00</td>\n",
       "        </tr>\n",
       "        <tr>\n",
       "            <td>4163      </td> <td>0.07  </td> <td>409.9  </td> <td>2022-08-06</td> <td>00:00:00</td>\n",
       "        </tr>\n",
       "        <tr>\n",
       "            <td>4164      </td> <td>0.07  </td> <td>410    </td> <td>2022-08-06</td> <td>01:00:00</td>\n",
       "        </tr>\n",
       "        <tr>\n",
       "            <td>4165      </td> <td>0.06  </td> <td>410.3  </td> <td>2022-08-06</td> <td>02:00:00</td>\n",
       "        </tr>\n",
       "        <tr>\n",
       "            <td>4166      </td> <td>0.08  </td> <td>410.5  </td> <td>2022-08-06</td> <td>03:00:00</td>\n",
       "        </tr>\n",
       "    </tbody>\n",
       "</table>\n",
       "<p>... (3529 rows omitted)</p>"
      ],
      "text/plain": [
       "Unnamed: 0 | co_ppm | co2_ppm | date_col   | time_col\n",
       "4157       | 0.21   | 415     | 2022-08-05 | 18:00:00\n",
       "4158       | 0.09   | 412     | 2022-08-05 | 19:00:00\n",
       "4159       | 0.08   | 411.2   | 2022-08-05 | 20:00:00\n",
       "4160       | 0.08   | 411.1   | 2022-08-05 | 21:00:00\n",
       "4161       | 0.08   | 410.4   | 2022-08-05 | 22:00:00\n",
       "4162       | 0.07   | 409.6   | 2022-08-05 | 23:00:00\n",
       "4163       | 0.07   | 409.9   | 2022-08-06 | 00:00:00\n",
       "4164       | 0.07   | 410     | 2022-08-06 | 01:00:00\n",
       "4165       | 0.06   | 410.3   | 2022-08-06 | 02:00:00\n",
       "4166       | 0.08   | 410.5   | 2022-08-06 | 03:00:00\n",
       "... (3529 rows omitted)"
      ]
     },
     "execution_count": 24,
     "metadata": {},
     "output_type": "execute_result"
    }
   ],
   "source": [
    "#Your code here. Feel free to refer to the previous notebooks for more visualization methods\n",
    "data_vis\n",
    "\n",
    "\n",
    "\n",
    "\n"
   ]
  },
  {
   "cell_type": "markdown",
   "id": "68cf0266",
   "metadata": {},
   "source": [
    "## Congratulations! You finished the notebook. \n",
    "You can now try and find patterns from complex dataset on you own. Here are some extra resources: \n",
    "\n",
    "1. [Function Visualizer](https://www.data8.org/interactive_table_functions/)\n",
    "2. [Detailed Table Functions](https://drive.google.com/file/d/1j2hjhweJdGWW0EdvmjGHsXFUatXIZax4/view)\n"
   ]
  },
  {
   "cell_type": "code",
   "execution_count": null,
   "id": "50e010c3",
   "metadata": {},
   "outputs": [],
   "source": []
  }
 ],
 "metadata": {
  "kernelspec": {
   "display_name": "Python 3 (ipykernel)",
   "language": "python",
   "name": "python3"
  },
  "language_info": {
   "codemirror_mode": {
    "name": "ipython",
    "version": 3
   },
   "file_extension": ".py",
   "mimetype": "text/x-python",
   "name": "python",
   "nbconvert_exporter": "python",
   "pygments_lexer": "ipython3",
   "version": "3.9.15"
  }
 },
 "nbformat": 4,
 "nbformat_minor": 5
}
