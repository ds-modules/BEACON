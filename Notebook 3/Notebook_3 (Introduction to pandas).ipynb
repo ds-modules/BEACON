{
 "cells": [
  {
   "cell_type": "markdown",
   "id": "f3ceebe5",
   "metadata": {},
   "source": [
    "# Introduction to Pandas and matplotlib\n",
    "\n",
    "In this notebook, you'll be going over how to create some really cool vizualizations using a new libray, 'Pandas'. \n",
    "\n",
    "Pandas is a popular open-source data manipulation and analysis library for the Python programming language. It provides easy-to-use data structures and data analysis tools, making it a powerful tool for working with structured data.\n",
    "\n",
    "The key data structures in Pandas are the `Series` and `DataFrame`. A `Series` is a one-dimensional array-like object that can hold any data type, while a `DataFrame` is a two-dimensional tabular data structure consisting of rows and columns, similar to a spreadsheet or a SQL table. These data structures are designed to handle large and complex datasets efficiently.\n",
    "\n",
    "Pandas allows you to perform a wide range of operations on data, such as filtering, sorting, merging, reshaping, and aggregating. It provides methods for data cleaning, data exploration, data visualization, and handling missing or duplicate values. Pandas also integrates well with other libraries in the scientific Python ecosystem, such as NumPy, Matplotlib, and scikit-learn, enabling seamless data analysis workflows.\n",
    "\n",
    "With its intuitive and powerful functionality, Pandas has become a popular choice for data manipulation and analysis tasks in various domains, including data science, finance, economics, social sciences, and more."
   ]
  },
  {
   "cell_type": "markdown",
   "id": "a8415c81",
   "metadata": {},
   "source": [
    "**This notebook is intended to serve as a guide to pandas and you wouldn't be required to write any code. Just follow through the questions and comments included carefully!**\n",
    "\n",
    "We introduced the packages, matplotlib and pandas in notebook1. In this notebook, we are going to explore these packages in depth. "
   ]
  },
  {
   "cell_type": "markdown",
   "id": "001bf5a3",
   "metadata": {},
   "source": [
    "<img src = \"nb1ss.png\" align=\"center\" width = 600 />"
   ]
  },
  {
   "cell_type": "code",
   "execution_count": 3,
   "id": "a885d346",
   "metadata": {},
   "outputs": [],
   "source": [
    "# Breakdown of commonly used packages:\n",
    "\n",
    "#Used for visualizations\n",
    "import matplotlib\n",
    "import matplotlib.pyplot as plt\n",
    "import seaborn as sns\n",
    "\n",
    "#Numberical computation\n",
    "import numpy as np\n",
    "from numpy import NaN\n",
    "from decimal import Decimal\n",
    "\n",
    "#Manuplating data in form of series or dataframes\n",
    "import pandas as pd\n",
    "\n",
    "#To manuplate fields that are date or time\n",
    "import datetime\n",
    "from datetime import time"
   ]
  },
  {
   "cell_type": "markdown",
   "id": "b5a8c642",
   "metadata": {},
   "source": [
    "### Introduction to Pandas\n",
    "\n",
    "We'll be using the following slides from Data 100, a course offered at Berkeley, as a overview. "
   ]
  },
  {
   "cell_type": "markdown",
   "id": "55cfbdc2",
   "metadata": {},
   "source": [
    "Pandas 1:\n",
    "https://docs.google.com/presentation/d/1SAbDTM2aaIjA2Hsupd_uCXV2mpFX5oBYvmRqpLgFJYk/edit#slide=id.g1d1eab55d83_0_0\n",
    "\n",
    "Pandas 2:\n",
    "https://docs.google.com/presentation/d/1kHsp7lVCQsAlf-gVL8SySrkp9g7lIITXE-CvSs2Ww8o/edit"
   ]
  },
  {
   "cell_type": "code",
   "execution_count": 4,
   "id": "36f2ac5c",
   "metadata": {},
   "outputs": [],
   "source": [
    "# Using this cell, we will be defining some matplotlib parameters for the plots that we would be creating. \n",
    "\n",
    "matplotlib.rcParams['axes.linewidth'] = 1\n",
    "matplotlib.rcParams['lines.linewidth'] = 3\n",
    "matplotlib.rcParams['font.sans-serif'] = \"Arial\"\n",
    "matplotlib.rcParams['font.family'] = \"sans-serif\"\n",
    "matplotlib.rcParams['ytick.labelsize'] = 20\n",
    "matplotlib.rcParams['xtick.labelsize'] = 20\n",
    "matplotlib.rcParams['axes.titlesize'] = 20\n",
    "matplotlib.rcParams['axes.labelsize'] = 20\n",
    "plt.rcParams['figure.figsize'] = [20, 14]\n",
    "plt.rcParams[\"axes.labelweight\"] = \"bold\"\n",
    "np.set_printoptions(suppress=True)\n",
    "plt.rcParams[\"axes.labelweight\"] = \"bold\"\n",
    "plt.rcParams[\"savefig.facecolor\"]= '#FFFFFF'"
   ]
  },
  {
   "cell_type": "markdown",
   "id": "9c4d6889",
   "metadata": {},
   "source": [
    "Now for analysis, we will be observing the Northern hemisphere cycle. We will try to answer the following questions; what is a part of this cycle? What is everything displayed in the data that is not part of the cycle? \n",
    "\n",
    "For temperate areas in the northern hemisphere, spring begins on 1 March, summer on 1 June, autumn on 1 September, and winter on 1 December. For the southern hemisphere temperate zone, spring begins on 1 September, summer on 1 December, autumn on 1 March, and winter on 1 June. The Northern Hemisphere has more CO2 because the northern hemisphere contains much more land than the southern hemisphere – which is mostly covered by ocean – the amount of carbon dioxide in the atmosphere increases overall during the northern winter"
   ]
  },
  {
   "cell_type": "markdown",
   "id": "28159a75",
   "metadata": {},
   "source": [
    "**Part A:**\n",
    "**First let's look at the CO2 daily profiles from a single BEACO2N node for winter and summer:**"
   ]
  },
  {
   "cell_type": "code",
   "execution_count": null,
   "id": "6a3474c7",
   "metadata": {},
   "outputs": [],
   "source": [
    "# Pulling in data from a beacon node, NOTE: you can change the dates in the \"start=\" and \"end=\" sections of the url.\n",
    "filename =\"http://128.32.208.8/node/81/measurements_all/csv?name=Beverly%20Hills%20Elementary%20School&interval=60&variables=co2_corrected_avg_t_drift_applied&start=2021-01-01%2000:00:00&end=2021-12-31%2000:00:00&chart_type=measurement\"\n",
    "\n",
    "# Once you have a defined filename, we will use the .read_csv function to save the node information in a dataframe called 'data'\n",
    "data  = pd.read_csv(filename, on_bad_lines = 'skip') \n"
   ]
  },
  {
   "cell_type": "code",
   "execution_count": null,
   "id": "4140912a",
   "metadata": {},
   "outputs": [],
   "source": [
    "# The following code cells\n",
    "data['timestamp'] = pd.to_datetime(data['local_timestamp'],format ='%Y-%m-%d  %H:%M:%S')\n",
    "data.index = data['timestamp']\n",
    "data = data.drop(['local_timestamp','epoch','datetime','node_id','node_file_id','timestamp'],axis = 1)\n",
    "data[:10]"
   ]
  },
  {
   "cell_type": "code",
   "execution_count": 4,
   "id": "e5f61f5e",
   "metadata": {},
   "outputs": [
    {
     "data": {
      "text/html": [
       "<div>\n",
       "<style scoped>\n",
       "    .dataframe tbody tr th:only-of-type {\n",
       "        vertical-align: middle;\n",
       "    }\n",
       "\n",
       "    .dataframe tbody tr th {\n",
       "        vertical-align: top;\n",
       "    }\n",
       "\n",
       "    .dataframe thead th {\n",
       "        text-align: right;\n",
       "    }\n",
       "</style>\n",
       "<table border=\"1\" class=\"dataframe\">\n",
       "  <thead>\n",
       "    <tr style=\"text-align: right;\">\n",
       "      <th></th>\n",
       "      <th>co2_corrected_avg_t_drift_applied</th>\n",
       "      <th>month</th>\n",
       "    </tr>\n",
       "    <tr>\n",
       "      <th>timestamp</th>\n",
       "      <th></th>\n",
       "      <th></th>\n",
       "    </tr>\n",
       "  </thead>\n",
       "  <tbody>\n",
       "    <tr>\n",
       "      <th>2021-01-01 00:00:00</th>\n",
       "      <td>456.227262</td>\n",
       "      <td>1</td>\n",
       "    </tr>\n",
       "    <tr>\n",
       "      <th>2021-01-01 01:00:00</th>\n",
       "      <td>456.186365</td>\n",
       "      <td>1</td>\n",
       "    </tr>\n",
       "    <tr>\n",
       "      <th>2021-01-01 02:00:00</th>\n",
       "      <td>446.983148</td>\n",
       "      <td>1</td>\n",
       "    </tr>\n",
       "    <tr>\n",
       "      <th>2021-01-01 03:00:00</th>\n",
       "      <td>453.625894</td>\n",
       "      <td>1</td>\n",
       "    </tr>\n",
       "    <tr>\n",
       "      <th>2021-01-01 04:00:00</th>\n",
       "      <td>472.004782</td>\n",
       "      <td>1</td>\n",
       "    </tr>\n",
       "  </tbody>\n",
       "</table>\n",
       "</div>"
      ],
      "text/plain": [
       "                     co2_corrected_avg_t_drift_applied  month\n",
       "timestamp                                                    \n",
       "2021-01-01 00:00:00                         456.227262      1\n",
       "2021-01-01 01:00:00                         456.186365      1\n",
       "2021-01-01 02:00:00                         446.983148      1\n",
       "2021-01-01 03:00:00                         453.625894      1\n",
       "2021-01-01 04:00:00                         472.004782      1"
      ]
     },
     "execution_count": 4,
     "metadata": {},
     "output_type": "execute_result"
    }
   ],
   "source": [
    "#Adding a month column\n",
    "data['month'] = data.index.month\n",
    "data.head(5)"
   ]
  },
  {
   "cell_type": "code",
   "execution_count": 5,
   "id": "7e016053",
   "metadata": {},
   "outputs": [],
   "source": [
    "#Selecting January and July dates for winter and summer using the boolean indexing method\n",
    "jan_data = data[data['month'] == 1]\n",
    "jul_data = data[data['month'] == 7]"
   ]
  },
  {
   "cell_type": "code",
   "execution_count": 6,
   "id": "3ffe1116",
   "metadata": {},
   "outputs": [],
   "source": [
    "#Taking the mean across each hour\n",
    "jan_co2_grouped = jan_data.groupby(jan_data.index.hour).mean()\n",
    "jul_co2_grouped = jul_data.groupby(jul_data.index.hour).mean()"
   ]
  },
  {
   "cell_type": "code",
   "execution_count": 7,
   "id": "f0daf38f",
   "metadata": {},
   "outputs": [
    {
     "data": {
      "text/plain": [
       "<matplotlib.legend.Legend at 0x7f854dfe2df0>"
      ]
     },
     "execution_count": 7,
     "metadata": {},
     "output_type": "execute_result"
    },
    {
     "data": {
      "image/png": "[encoded data removed]",
      "text/plain": [
       "<Figure size 1080x576 with 1 Axes>"
      ]
     },
     "metadata": {
      "needs_background": "light"
     },
     "output_type": "display_data"
    }
   ],
   "source": [
    "plt.figure(figsize = (15, 8))\n",
    "plt.plot(jan_co2_grouped.index, jan_co2_grouped['co2_corrected_avg_t_drift_applied'], label = 'January')\n",
    "plt.plot(jul_co2_grouped.index, jul_co2_grouped['co2_corrected_avg_t_drift_applied'], label = 'July')\n",
    "plt.xlabel(\"Hour of Day\")\n",
    "plt.ylabel(\"CO2 Concentration (ppm)\")\n",
    "plt.title(\"Daily Profile of CO2 Concentrations in the Bay Area\")\n",
    "plt.legend(fontsize = 15)"
   ]
  },
  {
   "cell_type": "markdown",
   "id": "122eb86f",
   "metadata": {},
   "source": [
    "**Part B: The CO2 background concentration in the atmosphere has a seasonal cycle.**\n",
    "\n",
    "The \"Keeling Curve\" refers to a graph that shows the ongoing increase of carbon dioxide (CO2) levels in the Earth's atmosphere over time. It is named after Charles David Keeling, an American scientist who began measurements of atmospheric CO2 concentrations at the Mauna Loa Observatory in Hawaii in 1958.\n",
    "\n",
    "The Keeling Curve is a significant tool in studying the long-term trend of CO2 concentrations and its correlation with climate change. It shows a consistent upward trend with seasonal variations, reflecting the influence of natural processes such as photosynthesis in the Northern Hemisphere during the summer months. However, the overall trend demonstrates a steady rise in CO2 levels, primarily attributed to human activities like the burning of fossil fuels and deforestation.\n",
    "\n",
    "Let's pull data from multiple BEACO2N sites to find the background CO2 concentration in the Bay Area.\n"
   ]
  },
  {
   "cell_type": "code",
   "execution_count": 8,
   "id": "491b43fc",
   "metadata": {},
   "outputs": [],
   "source": [
    "#This function will pull in the beacon data from all the node IDs listed\n",
    "def co2(start,end,*nodes):\n",
    "    full = pd.DataFrame()\n",
    "    for node in nodes:\n",
    "        print(node)\n",
    "        parameter = 'co2_corrected_avg_t_drift_applied-level-2'\n",
    "        filename=\"http://128.32.208.8/node/\"+node+\"/measurements_all/csv?name=Supersite&interval=60&variables=\"+parameter+\"&start=\"+start+\"&end=\"+end\n",
    "        data  = pd.read_csv(filename, on_bad_lines=\"skip\",index_col=[0], parse_dates=[0]) \n",
    "        data = data.rename(columns={parameter:node})\n",
    "        data = data.drop(['epoch','node_id','node_file_id','datetime'],axis = 1)\n",
    "        full = pd.merge(full,data, how = 'outer',left_index=True,right_index=True) \n",
    "    return full"
   ]
  },
  {
   "cell_type": "code",
   "execution_count": 9,
   "id": "d748569c",
   "metadata": {},
   "outputs": [
    {
     "name": "stdout",
     "output_type": "stream",
     "text": [
      "41\n",
      "45\n",
      "47\n",
      "63\n",
      "81\n",
      "26\n",
      "21\n",
      "25\n",
      "11\n",
      "78\n",
      "57\n"
     ]
    }
   ],
   "source": [
    "#Getting the 2021 CO2 data from several BEACO2N sites\n",
    "CO2_vals = co2('2021-01-01%2000:00:00','2021-12-31%2000:00:00','41','45','47','63','81', '26', '21', '25', '11', '78', '57')"
   ]
  },
  {
   "cell_type": "code",
   "execution_count": 10,
   "id": "061b9b8e",
   "metadata": {},
   "outputs": [],
   "source": [
    "#Replacing flagged values with NANs\n",
    "CO2_vals = CO2_vals.replace({-999.00000:np.NaN})\n",
    "CO2_vals = CO2_vals.replace({-111.00000:np.NaN})"
   ]
  },
  {
   "cell_type": "code",
   "execution_count": 11,
   "id": "6d86e250",
   "metadata": {},
   "outputs": [
    {
     "data": {
      "text/html": [
       "<div>\n",
       "<style scoped>\n",
       "    .dataframe tbody tr th:only-of-type {\n",
       "        vertical-align: middle;\n",
       "    }\n",
       "\n",
       "    .dataframe tbody tr th {\n",
       "        vertical-align: top;\n",
       "    }\n",
       "\n",
       "    .dataframe thead th {\n",
       "        text-align: right;\n",
       "    }\n",
       "</style>\n",
       "<table border=\"1\" class=\"dataframe\">\n",
       "  <thead>\n",
       "    <tr style=\"text-align: right;\">\n",
       "      <th></th>\n",
       "      <th>41</th>\n",
       "      <th>45</th>\n",
       "      <th>47</th>\n",
       "      <th>63</th>\n",
       "      <th>81</th>\n",
       "      <th>26</th>\n",
       "      <th>21</th>\n",
       "      <th>25</th>\n",
       "      <th>11</th>\n",
       "      <th>78</th>\n",
       "      <th>57</th>\n",
       "    </tr>\n",
       "    <tr>\n",
       "      <th>local_timestamp</th>\n",
       "      <th></th>\n",
       "      <th></th>\n",
       "      <th></th>\n",
       "      <th></th>\n",
       "      <th></th>\n",
       "      <th></th>\n",
       "      <th></th>\n",
       "      <th></th>\n",
       "      <th></th>\n",
       "      <th></th>\n",
       "      <th></th>\n",
       "    </tr>\n",
       "  </thead>\n",
       "  <tbody>\n",
       "    <tr>\n",
       "      <th>2021-01-01 00:00:00</th>\n",
       "      <td>456.017316</td>\n",
       "      <td>478.311917</td>\n",
       "      <td>472.661381</td>\n",
       "      <td>457.843508</td>\n",
       "      <td>456.227262</td>\n",
       "      <td>516.597320</td>\n",
       "      <td>455.384242</td>\n",
       "      <td>441.388594</td>\n",
       "      <td>474.153506</td>\n",
       "      <td>NaN</td>\n",
       "      <td>NaN</td>\n",
       "    </tr>\n",
       "    <tr>\n",
       "      <th>2021-01-01 01:00:00</th>\n",
       "      <td>503.171393</td>\n",
       "      <td>489.185970</td>\n",
       "      <td>470.553559</td>\n",
       "      <td>461.186613</td>\n",
       "      <td>456.186365</td>\n",
       "      <td>486.342687</td>\n",
       "      <td>466.203537</td>\n",
       "      <td>445.640017</td>\n",
       "      <td>476.921038</td>\n",
       "      <td>NaN</td>\n",
       "      <td>NaN</td>\n",
       "    </tr>\n",
       "    <tr>\n",
       "      <th>2021-01-01 02:00:00</th>\n",
       "      <td>497.273704</td>\n",
       "      <td>508.522232</td>\n",
       "      <td>464.533862</td>\n",
       "      <td>456.277776</td>\n",
       "      <td>446.983148</td>\n",
       "      <td>465.720543</td>\n",
       "      <td>494.167596</td>\n",
       "      <td>447.144204</td>\n",
       "      <td>472.313633</td>\n",
       "      <td>NaN</td>\n",
       "      <td>NaN</td>\n",
       "    </tr>\n",
       "    <tr>\n",
       "      <th>2021-01-01 03:00:00</th>\n",
       "      <td>503.214112</td>\n",
       "      <td>509.771089</td>\n",
       "      <td>479.929985</td>\n",
       "      <td>472.331156</td>\n",
       "      <td>453.625894</td>\n",
       "      <td>498.277757</td>\n",
       "      <td>469.978429</td>\n",
       "      <td>442.265893</td>\n",
       "      <td>476.724706</td>\n",
       "      <td>NaN</td>\n",
       "      <td>NaN</td>\n",
       "    </tr>\n",
       "    <tr>\n",
       "      <th>2021-01-01 04:00:00</th>\n",
       "      <td>499.710018</td>\n",
       "      <td>505.091756</td>\n",
       "      <td>474.502803</td>\n",
       "      <td>473.563219</td>\n",
       "      <td>472.004782</td>\n",
       "      <td>512.201767</td>\n",
       "      <td>490.993720</td>\n",
       "      <td>449.445706</td>\n",
       "      <td>466.343059</td>\n",
       "      <td>NaN</td>\n",
       "      <td>NaN</td>\n",
       "    </tr>\n",
       "  </tbody>\n",
       "</table>\n",
       "</div>"
      ],
      "text/plain": [
       "                             41          45          47          63  \\\n",
       "local_timestamp                                                       \n",
       "2021-01-01 00:00:00  456.017316  478.311917  472.661381  457.843508   \n",
       "2021-01-01 01:00:00  503.171393  489.185970  470.553559  461.186613   \n",
       "2021-01-01 02:00:00  497.273704  508.522232  464.533862  456.277776   \n",
       "2021-01-01 03:00:00  503.214112  509.771089  479.929985  472.331156   \n",
       "2021-01-01 04:00:00  499.710018  505.091756  474.502803  473.563219   \n",
       "\n",
       "                             81          26          21          25  \\\n",
       "local_timestamp                                                       \n",
       "2021-01-01 00:00:00  456.227262  516.597320  455.384242  441.388594   \n",
       "2021-01-01 01:00:00  456.186365  486.342687  466.203537  445.640017   \n",
       "2021-01-01 02:00:00  446.983148  465.720543  494.167596  447.144204   \n",
       "2021-01-01 03:00:00  453.625894  498.277757  469.978429  442.265893   \n",
       "2021-01-01 04:00:00  472.004782  512.201767  490.993720  449.445706   \n",
       "\n",
       "                             11  78  57  \n",
       "local_timestamp                          \n",
       "2021-01-01 00:00:00  474.153506 NaN NaN  \n",
       "2021-01-01 01:00:00  476.921038 NaN NaN  \n",
       "2021-01-01 02:00:00  472.313633 NaN NaN  \n",
       "2021-01-01 03:00:00  476.724706 NaN NaN  \n",
       "2021-01-01 04:00:00  466.343059 NaN NaN  "
      ]
     },
     "execution_count": 11,
     "metadata": {},
     "output_type": "execute_result"
    }
   ],
   "source": [
    "CO2_vals.head(5)"
   ]
  },
  {
   "cell_type": "code",
   "execution_count": 12,
   "id": "9027eb73",
   "metadata": {},
   "outputs": [
    {
     "data": {
      "text/html": [
       "<div>\n",
       "<style scoped>\n",
       "    .dataframe tbody tr th:only-of-type {\n",
       "        vertical-align: middle;\n",
       "    }\n",
       "\n",
       "    .dataframe tbody tr th {\n",
       "        vertical-align: top;\n",
       "    }\n",
       "\n",
       "    .dataframe thead th {\n",
       "        text-align: right;\n",
       "    }\n",
       "</style>\n",
       "<table border=\"1\" class=\"dataframe\">\n",
       "  <thead>\n",
       "    <tr style=\"text-align: right;\">\n",
       "      <th></th>\n",
       "      <th>41</th>\n",
       "      <th>45</th>\n",
       "      <th>47</th>\n",
       "      <th>63</th>\n",
       "      <th>81</th>\n",
       "      <th>26</th>\n",
       "      <th>21</th>\n",
       "      <th>25</th>\n",
       "      <th>11</th>\n",
       "      <th>78</th>\n",
       "      <th>57</th>\n",
       "      <th>fifth_per</th>\n",
       "    </tr>\n",
       "    <tr>\n",
       "      <th>local_timestamp</th>\n",
       "      <th></th>\n",
       "      <th></th>\n",
       "      <th></th>\n",
       "      <th></th>\n",
       "      <th></th>\n",
       "      <th></th>\n",
       "      <th></th>\n",
       "      <th></th>\n",
       "      <th></th>\n",
       "      <th></th>\n",
       "      <th></th>\n",
       "      <th></th>\n",
       "    </tr>\n",
       "  </thead>\n",
       "  <tbody>\n",
       "    <tr>\n",
       "      <th>2021-01-01 00:00:00</th>\n",
       "      <td>456.017316</td>\n",
       "      <td>478.311917</td>\n",
       "      <td>472.661381</td>\n",
       "      <td>457.843508</td>\n",
       "      <td>456.227262</td>\n",
       "      <td>516.597320</td>\n",
       "      <td>455.384242</td>\n",
       "      <td>441.388594</td>\n",
       "      <td>474.153506</td>\n",
       "      <td>NaN</td>\n",
       "      <td>NaN</td>\n",
       "      <td>446.986854</td>\n",
       "    </tr>\n",
       "    <tr>\n",
       "      <th>2021-01-01 01:00:00</th>\n",
       "      <td>503.171393</td>\n",
       "      <td>489.185970</td>\n",
       "      <td>470.553559</td>\n",
       "      <td>461.186613</td>\n",
       "      <td>456.186365</td>\n",
       "      <td>486.342687</td>\n",
       "      <td>466.203537</td>\n",
       "      <td>445.640017</td>\n",
       "      <td>476.921038</td>\n",
       "      <td>NaN</td>\n",
       "      <td>NaN</td>\n",
       "      <td>449.858556</td>\n",
       "    </tr>\n",
       "    <tr>\n",
       "      <th>2021-01-01 02:00:00</th>\n",
       "      <td>497.273704</td>\n",
       "      <td>508.522232</td>\n",
       "      <td>464.533862</td>\n",
       "      <td>456.277776</td>\n",
       "      <td>446.983148</td>\n",
       "      <td>465.720543</td>\n",
       "      <td>494.167596</td>\n",
       "      <td>447.144204</td>\n",
       "      <td>472.313633</td>\n",
       "      <td>NaN</td>\n",
       "      <td>NaN</td>\n",
       "      <td>447.047571</td>\n",
       "    </tr>\n",
       "    <tr>\n",
       "      <th>2021-01-01 03:00:00</th>\n",
       "      <td>503.214112</td>\n",
       "      <td>509.771089</td>\n",
       "      <td>479.929985</td>\n",
       "      <td>472.331156</td>\n",
       "      <td>453.625894</td>\n",
       "      <td>498.277757</td>\n",
       "      <td>469.978429</td>\n",
       "      <td>442.265893</td>\n",
       "      <td>476.724706</td>\n",
       "      <td>NaN</td>\n",
       "      <td>NaN</td>\n",
       "      <td>446.809893</td>\n",
       "    </tr>\n",
       "    <tr>\n",
       "      <th>2021-01-01 04:00:00</th>\n",
       "      <td>499.710018</td>\n",
       "      <td>505.091756</td>\n",
       "      <td>474.502803</td>\n",
       "      <td>473.563219</td>\n",
       "      <td>472.004782</td>\n",
       "      <td>512.201767</td>\n",
       "      <td>490.993720</td>\n",
       "      <td>449.445706</td>\n",
       "      <td>466.343059</td>\n",
       "      <td>NaN</td>\n",
       "      <td>NaN</td>\n",
       "      <td>456.204648</td>\n",
       "    </tr>\n",
       "  </tbody>\n",
       "</table>\n",
       "</div>"
      ],
      "text/plain": [
       "                             41          45          47          63  \\\n",
       "local_timestamp                                                       \n",
       "2021-01-01 00:00:00  456.017316  478.311917  472.661381  457.843508   \n",
       "2021-01-01 01:00:00  503.171393  489.185970  470.553559  461.186613   \n",
       "2021-01-01 02:00:00  497.273704  508.522232  464.533862  456.277776   \n",
       "2021-01-01 03:00:00  503.214112  509.771089  479.929985  472.331156   \n",
       "2021-01-01 04:00:00  499.710018  505.091756  474.502803  473.563219   \n",
       "\n",
       "                             81          26          21          25  \\\n",
       "local_timestamp                                                       \n",
       "2021-01-01 00:00:00  456.227262  516.597320  455.384242  441.388594   \n",
       "2021-01-01 01:00:00  456.186365  486.342687  466.203537  445.640017   \n",
       "2021-01-01 02:00:00  446.983148  465.720543  494.167596  447.144204   \n",
       "2021-01-01 03:00:00  453.625894  498.277757  469.978429  442.265893   \n",
       "2021-01-01 04:00:00  472.004782  512.201767  490.993720  449.445706   \n",
       "\n",
       "                             11  78  57   fifth_per  \n",
       "local_timestamp                                      \n",
       "2021-01-01 00:00:00  474.153506 NaN NaN  446.986854  \n",
       "2021-01-01 01:00:00  476.921038 NaN NaN  449.858556  \n",
       "2021-01-01 02:00:00  472.313633 NaN NaN  447.047571  \n",
       "2021-01-01 03:00:00  476.724706 NaN NaN  446.809893  \n",
       "2021-01-01 04:00:00  466.343059 NaN NaN  456.204648  "
      ]
     },
     "execution_count": 12,
     "metadata": {},
     "output_type": "execute_result"
    }
   ],
   "source": [
    "#To get an idea of the background concentration, let's pull the 5th percentile of these measurements at every time step\n",
    "CO2_vals['fifth_per'] = CO2_vals.quantile(q=0.05,axis=1,numeric_only=True, interpolation='linear')\n",
    "CO2_vals.head(5)"
   ]
  },
  {
   "cell_type": "code",
   "execution_count": 13,
   "id": "dfa923ef",
   "metadata": {},
   "outputs": [],
   "source": [
    "#As we saw above, CO2 concentrations are different at day and at night. Let's pull just the daytime hours\n",
    "CO2_vals['hour'] = CO2_vals.index.time\n",
    "CO2_vals_filtered = CO2_vals.loc[(CO2_vals['hour'] >= time(10,00)) & (CO2_vals['hour'] <= time(16,00))]\n",
    "CO2_vals_filtered = CO2_vals_filtered.drop('hour', axis = 1)"
   ]
  },
  {
   "cell_type": "code",
   "execution_count": 14,
   "id": "985fdd35",
   "metadata": {},
   "outputs": [
    {
     "data": {
      "text/plain": [
       "Text(0.5, 1.0, '5th Percentile of BEACO2N Daytime CO2 Measurements')"
      ]
     },
     "execution_count": 14,
     "metadata": {},
     "output_type": "execute_result"
    },
    {
     "data": {
      "image/png": "[encoded data removed]",
      "text/plain": [
       "<Figure size 1080x576 with 1 Axes>"
      ]
     },
     "metadata": {
      "needs_background": "light"
     },
     "output_type": "display_data"
    }
   ],
   "source": [
    "#Let's plot the 5th percentile and take a rolling mean to smooth it out to get an idea of the background\n",
    "plt.figure(figsize = (15, 8))\n",
    "plt.plot(CO2_vals_filtered['fifth_per'].rolling(window = 24*14, min_periods = 24*6, center = True).mean(), color = 'black', label = \"5th Percentile\")\n",
    "plt.xlabel(\"Date\")\n",
    "plt.ylabel(\"CO2 Concentration (ppm)\")\n",
    "plt.title(\"5th Percentile of BEACO2N Daytime CO2 Measurements\")"
   ]
  },
  {
   "cell_type": "markdown",
   "id": "28d2f0af",
   "metadata": {},
   "source": [
    "**Observations:** The background CO2 concentration tends to be lower in the spring and summer due to the seasonal cycle of vegetation growth and decay, particularly in the Northern Hemisphere. This phenomenon is known as the \"CO2 fertilization effect.\"\n",
    "\n",
    "During spring and summer, plants undergo photosynthesis, a process in which they absorb carbon dioxide from the atmosphere and convert it into carbohydrates and oxygen. This increased photosynthetic activity leads to a reduction in atmospheric CO2 levels. As a result, the background CO2 concentration decreases during these seasons.\n",
    "\n",
    "In the Northern Hemisphere, where a majority of the Earth's landmass is located, the seasonal cycle of vegetation growth and decay is more pronounced. This is because the landmasses in the Northern Hemisphere have a higher ratio of land to ocean compared to the Southern Hemisphere. Consequently, the effect of photosynthesis and the resulting decrease in CO2 levels are more prominent in the Northern Hemisphere during spring and summer.\n",
    "\n",
    "It's worth noting that even with the decrease in background CO2 levels during spring and summer, the overall trend of increasing CO2 concentrations, as shown by the Keeling Curve, continues due to the cumulative effect of human activities releasing carbon dioxide into the atmosphere."
   ]
  },
  {
   "cell_type": "code",
   "execution_count": null,
   "id": "cb4c969a",
   "metadata": {},
   "outputs": [],
   "source": []
  }
 ],
 "metadata": {
  "kernelspec": {
   "display_name": "Python 3 (ipykernel)",
   "language": "python",
   "name": "python3"
  },
  "language_info": {
   "codemirror_mode": {
    "name": "ipython",
    "version": 3
   },
   "file_extension": ".py",
   "mimetype": "text/x-python",
   "name": "python",
   "nbconvert_exporter": "python",
   "pygments_lexer": "ipython3",
   "version": "3.9.15"
  }
 },
 "nbformat": 4,
 "nbformat_minor": 5
}
